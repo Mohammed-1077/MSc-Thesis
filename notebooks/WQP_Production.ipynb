{
 "cells": [
  {
   "cell_type": "markdown",
   "metadata": {},
   "source": [
    "# Water Quality Parameters Maps - Production"
   ]
  },
  {
   "cell_type": "markdown",
   "metadata": {},
   "source": [
    "Import the necessary packages to run the processing of the files."
   ]
  },
  {
   "cell_type": "code",
   "execution_count": 1,
   "metadata": {},
   "outputs": [
    {
     "data": {
      "text/html": [
       "<style>\n",
       "/* Config settings*/\n",
       "@import url(https://fonts.googleapis.com/css?family=Open+Sans);\n",
       "body{\n",
       "   font-family: 'Open Sans';\n",
       "}\n",
       "\n",
       "/* Styling the Jupyter Notebook GUI*/\n",
       "#ipython_notebook::before{\n",
       "    content:\"\"\n",
       "   }\n",
       "\n",
       "/* #ipython_notebook img{\n",
       "display:none;\n",
       "} */\n",
       "\n",
       "/*Styling the elements in the Jupyter Notebook*/\n",
       "h1 {\n",
       "    color: white;\n",
       "    border: 1.5px solid rgb(46, 96, 177);\n",
       "    padding: 8px 12px;\n",
       "    background: rgba(37, 107, 182, 0.5);\n",
       "    position: static;\n",
       "}\n",
       "\n",
       "h2 {\n",
       "    color: white;\n",
       "    border: 1.5px solid rgb(46, 170, 177);\n",
       "    padding: 8px 12px;\n",
       "    background: rgba(46, 170, 177, 0.5);\n",
       "    position: static;\n",
       "}\n",
       "\n",
       "h3 {\n",
       "    color: white;\n",
       "    border: 1.5px solid rgb(192, 119, 255);\n",
       "    padding: 8px 12px;\n",
       "    background: rgba(170, 74, 255, 0.5);\n",
       "    position: static;\n",
       "}\n",
       "\n",
       ".note {\n",
       "    background-color: rgba(0, 255, 162, 0.503);\n",
       "}\n",
       "\n",
       ".warning {\n",
       "    background-color: rgba(246, 255, 0, 0.503);\n",
       "}\n",
       "\n",
       ".important {\n",
       "    background-color: rgba(255, 187, 0, 0.503);\n",
       "}\n",
       "\n",
       "\n",
       "</style>"
      ],
      "text/plain": [
       "<IPython.core.display.HTML object>"
      ]
     },
     "execution_count": 1,
     "metadata": {},
     "output_type": "execute_result"
    }
   ],
   "source": [
    "# Styling notebook\n",
    "\n",
    "# System\n",
    "import os\n",
    "import sys\n",
    "\n",
    "# Import scripts libraries for the project\n",
    "sys.path.append('./src/python')\n",
    "\n",
    "# Import the function to update the notebook style\n",
    "from nbConfig import (css_styling)\n",
    "\n",
    "css_styling()"
   ]
  },
  {
   "cell_type": "markdown",
   "metadata": {},
   "source": [
    "## 0. Import WQP maps production library"
   ]
  },
  {
   "cell_type": "markdown",
   "metadata": {},
   "source": [
    "Import the SNAP-py library and function parameters files for the processing of the WQPs maps."
   ]
  },
  {
   "cell_type": "code",
   "execution_count": 2,
   "metadata": {},
   "outputs": [],
   "source": [
    "import pandas as pd\n",
    "import ipywidgets as wg\n",
    "import wqpSNAPparams_S3 as wqpParams_S3\n",
    "import wqpSNAPparams_L8 as wqpParams_L8\n",
    "import wqpSNAPparams_EUMETSAT as wqpParams_EUMETSAT\n",
    "import wqpSNAPFunctions as wqpSNAP"
   ]
  },
  {
   "cell_type": "markdown",
   "metadata": {},
   "source": [
    "Select the collection of interest for the processing of the data.\n",
    "\n",
    "**Note:** Make sure to have uploaded the files of the satellite imagery in the respective folder for the processing.\n",
    "\n",
    "- Sentinel-3 A/B: `'./in/data/satellite_imagery/S3'`\n",
    "- Landsat-8: `'./in/data/satellite_imagery/L8'`\n",
    "- EUMETSAT: `'./in/data/satellite_imagery/EUMETSAT'`\n",
    "\n",
    "Each product must be uncompressed and stored in an independent folder"
   ]
  },
  {
   "cell_type": "code",
   "execution_count": 3,
   "metadata": {},
   "outputs": [],
   "source": [
    "SENSOR_LIST = ['S3','L8','EUMETSAT']\n",
    "# SENSOR_LIST = ['S3','L8']\n",
    "sensor = wg.Select(\n",
    "    options = SENSOR_LIST,\n",
    "    value = SENSOR_LIST[0],\n",
    "    description = 'Select the sensor:',\n",
    "    disabled = False,\n",
    "    style = {\n",
    "        'description_width': 'auto'\n",
    "    },\n",
    "    layout = wg.Layout(width='50%', height='100px'),\n",
    ")"
   ]
  },
  {
   "cell_type": "code",
   "execution_count": 4,
   "metadata": {},
   "outputs": [
    {
     "data": {
      "application/vnd.jupyter.widget-view+json": {
       "model_id": "6f7e9c432aa942f4b8108fc1282d8892",
       "version_major": 2,
       "version_minor": 0
      },
      "text/plain": [
       "Select(description='Select the sensor:', layout=Layout(height='100px', width='50%'), options=('S3', 'L8', 'EUM…"
      ]
     },
     "metadata": {},
     "output_type": "display_data"
    }
   ],
   "source": [
    "sensor"
   ]
  },
  {
   "cell_type": "code",
   "execution_count": 5,
   "metadata": {},
   "outputs": [],
   "source": [
    "in_path = f'./in/satellite_imagery/{sensor.value}'\n",
    "out_path = f'./in/wqp/{sensor.value}'\n",
    "cwd_path = wqpSNAP.inputParameters(in_path,out_path)"
   ]
  },
  {
   "cell_type": "code",
   "execution_count": 6,
   "metadata": {},
   "outputs": [
    {
     "data": {
      "text/plain": [
       "{'in': './in/satellite_imagery/S3',\n",
       " 'out': './in/wqp/S3',\n",
       " 'out_masks': './in/wqp/S3/masks',\n",
       " 'out_oa': './in/wqp/S3/oa',\n",
       " 'out_rrs': './in/wqp/S3/rrs',\n",
       " 'out_wqp': './in/wqp/S3/wqp',\n",
       " 'out_wqp_no_clip': './in/wqp/S3/wqp_no_clip',\n",
       " 'out_wqp_cloud': './in/wqp/S3/wqp_cloud_mask',\n",
       " 'out_wqp_no_mask': './in/wqp/S3/wqp_no_mask',\n",
       " 'in_parameters': './in/satellite_imagery/wqp_parameters',\n",
       " 'vectorFile': './vector/simile_laghi/simile_laghi.shp'}"
      ]
     },
     "execution_count": 6,
     "metadata": {},
     "output_type": "execute_result"
    }
   ],
   "source": [
    "cwd_path"
   ]
  },
  {
   "cell_type": "markdown",
   "metadata": {},
   "source": [
    "## 1. Define processing parameters"
   ]
  },
  {
   "cell_type": "markdown",
   "metadata": {},
   "source": [
    "Import the additional input parameters used in the processing of the data. For the processing of CHL-a and TSM products using the Sentinel-3 OLCI sensor, it is required the mean temperature in the region of interest. While, for the processing of the LSWT products using the Landsat-8 TIRS sensor, are required some atmospheric correction parameters presented in the [Barsi method](https://www.mdpi.com/2072-4292/6/11/11607) (Barsi, 2014)"
   ]
  },
  {
   "cell_type": "markdown",
   "metadata": {},
   "source": [
    "### 1.1. Temperature Data - ARPA Lombardia\n",
    "\n",
    "The temperature data is retrieved from the `./in/satellite_imagery/wqp_parameters/meteoTemp.csv` file. Make sure to update the temperature measurements to match the satellite images acquisition timestamps to allow the processing.\n",
    "\n",
    "The update of the temperature measurements is possible either by following the procedure presented in the [downloadMeteoARPA](./downloadMeteoARPA.ipynb) notebook, or by requesting the the data from [ARPA Lombardia](https://www.arpalombardia.it/Pages/Meteorologia/Richiesta-dati-misurati.aspx#) by manually updating the **.csv** file."
   ]
  },
  {
   "cell_type": "code",
   "execution_count": 7,
   "metadata": {},
   "outputs": [],
   "source": [
    "#Read the mean temperature file\n",
    "df_t = pd.read_csv(os.path.join(cwd_path['in_parameters'],'meteoTemp.csv'))\n",
    "df_t[\"Data\"] = pd.to_datetime(df_t['Data'])\n",
    "df_t_keys = list(df_t.keys())"
   ]
  },
  {
   "cell_type": "code",
   "execution_count": 8,
   "metadata": {},
   "outputs": [
    {
     "data": {
      "text/html": [
       "<div>\n",
       "<style scoped>\n",
       "    .dataframe tbody tr th:only-of-type {\n",
       "        vertical-align: middle;\n",
       "    }\n",
       "\n",
       "    .dataframe tbody tr th {\n",
       "        vertical-align: top;\n",
       "    }\n",
       "\n",
       "    .dataframe thead th {\n",
       "        text-align: right;\n",
       "    }\n",
       "</style>\n",
       "<table border=\"1\" class=\"dataframe\">\n",
       "  <thead>\n",
       "    <tr style=\"text-align: right;\">\n",
       "      <th></th>\n",
       "      <th>IdSensore</th>\n",
       "      <th>Data</th>\n",
       "      <th>Valore</th>\n",
       "      <th>Stato</th>\n",
       "      <th>idOperatore</th>\n",
       "    </tr>\n",
       "  </thead>\n",
       "  <tbody>\n",
       "    <tr>\n",
       "      <th>0</th>\n",
       "      <td>14606</td>\n",
       "      <td>2019-01-01 00:00:00</td>\n",
       "      <td>5.5</td>\n",
       "      <td>VA</td>\n",
       "      <td>1</td>\n",
       "    </tr>\n",
       "    <tr>\n",
       "      <th>1</th>\n",
       "      <td>14606</td>\n",
       "      <td>2019-01-01 00:10:00</td>\n",
       "      <td>5.5</td>\n",
       "      <td>VA</td>\n",
       "      <td>1</td>\n",
       "    </tr>\n",
       "    <tr>\n",
       "      <th>2</th>\n",
       "      <td>14606</td>\n",
       "      <td>2019-01-01 00:20:00</td>\n",
       "      <td>5.4</td>\n",
       "      <td>VA</td>\n",
       "      <td>1</td>\n",
       "    </tr>\n",
       "    <tr>\n",
       "      <th>3</th>\n",
       "      <td>14606</td>\n",
       "      <td>2019-01-01 00:30:00</td>\n",
       "      <td>5.3</td>\n",
       "      <td>VA</td>\n",
       "      <td>1</td>\n",
       "    </tr>\n",
       "    <tr>\n",
       "      <th>4</th>\n",
       "      <td>14606</td>\n",
       "      <td>2019-01-01 00:40:00</td>\n",
       "      <td>5.3</td>\n",
       "      <td>VA</td>\n",
       "      <td>1</td>\n",
       "    </tr>\n",
       "  </tbody>\n",
       "</table>\n",
       "</div>"
      ],
      "text/plain": [
       "   IdSensore                Data  Valore Stato  idOperatore\n",
       "0      14606 2019-01-01 00:00:00     5.5    VA            1\n",
       "1      14606 2019-01-01 00:10:00     5.5    VA            1\n",
       "2      14606 2019-01-01 00:20:00     5.4    VA            1\n",
       "3      14606 2019-01-01 00:30:00     5.3    VA            1\n",
       "4      14606 2019-01-01 00:40:00     5.3    VA            1"
      ]
     },
     "execution_count": 8,
     "metadata": {},
     "output_type": "execute_result"
    }
   ],
   "source": [
    "# Sample of the temperature dataset\n",
    "df_t.head()"
   ]
  },
  {
   "cell_type": "markdown",
   "metadata": {},
   "source": [
    "Verify that the last available date for the temperature measurement includes the date for the images to be processed. Otherwise, make sure to update the temperature time series (see [Notebook Meteo ARPA](./downloadMeteoARPA.ipynb))."
   ]
  },
  {
   "cell_type": "code",
   "execution_count": 9,
   "metadata": {},
   "outputs": [
    {
     "name": "stdout",
     "output_type": "stream",
     "text": [
      "First timestamp: 2019-01-01 00:00:00\n",
      "Last timestamp: 2022-10-18 05:10:00\n"
     ]
    }
   ],
   "source": [
    "print(f'First timestamp: {min(df_t.Data)}')\n",
    "print(f'Last timestamp: {max(df_t.Data)}')"
   ]
  },
  {
   "cell_type": "markdown",
   "metadata": {},
   "source": [
    "### 1.2. Atmospheric Correction Parameters"
   ]
  },
  {
   "cell_type": "markdown",
   "metadata": {},
   "source": [
    "The atmospheric correction parameters are manually updated by requesting them at the corresponding time of acquisition of the Landsat images. The parameters are computed using the [NASA Atmospheric Correction Calculator](https://atmcorr.gsfc.nasa.gov/atm_corr.html), and are appended into the `./in/satellite_imagery/wqp_parameters/atmCorr.csv` file. \n",
    "\n",
    "Here, we will make an example for the Landsat Image \"*LC08_L1GT_194028_20220506_20220512_02_T2*\", where the date of acquisition corresponds to the 4th string (2022-05-06). The time of acquisition can be found inside the metadata file for the products **'*_MTL.xml'** file. For this products the time is around 10:10 at the center time of the scene. The requests would be carried out as follows:\n",
    "\n",
    "<div style=\"display: inline-flex\">\n",
    "    <div style=\"margin: 10px; width:45%\">\n",
    "        <h5>Atmospheric Correction Parameters Request Module</h5>\n",
    "        <img src='./src/images/sample_form_atmCorr.png' style='width:95%'>\n",
    "    </div> \n",
    "    <div style=\"margin: 10px; width:45%\">\n",
    "        <h5>Atmospheric Correction Parameters Request Output</h5>\n",
    "        <img src='./src/images/sample_output_atmCorr.png' style='width:95%'>\n",
    "    </div> \n",
    "</div>\n",
    "\n",
    "Once the parameters are obtained, it is possible to update the **atmCorr.csv** file with the help of a text editor, or excel, to add a ne line for the new record. Notice that the data must be compiled in the same order as stated in the first line.\n",
    "\n",
    "<div style=\"display: flex; align-items: center; justify-content: center\">\n",
    "    <div style=\"margin: 10px\">\n",
    "        <h5>Atmospheric Correction Parameters File Update</h5>\n",
    "        <img src='./src/images/sample_update_atmCorr.png' style='width:40%'>\n",
    "    </div> \n",
    "</div>"
   ]
  },
  {
   "cell_type": "code",
   "execution_count": 10,
   "metadata": {},
   "outputs": [],
   "source": [
    "# Read the atmospheric correction parameters file\n",
    "df_atm = pd.read_csv(os.path.join(cwd_path['in_parameters'],'atmCorr.csv'))"
   ]
  },
  {
   "cell_type": "code",
   "execution_count": 11,
   "metadata": {},
   "outputs": [],
   "source": [
    "df_atm['DateTime'] = pd.to_datetime(df_atm['DateTime'], format='%Y/%m/%d %H:%M')\n",
    "df_atm['DateTime'] = df_atm['DateTime'].dt.date"
   ]
  },
  {
   "cell_type": "code",
   "execution_count": 12,
   "metadata": {},
   "outputs": [
    {
     "data": {
      "text/html": [
       "<div>\n",
       "<style scoped>\n",
       "    .dataframe tbody tr th:only-of-type {\n",
       "        vertical-align: middle;\n",
       "    }\n",
       "\n",
       "    .dataframe tbody tr th {\n",
       "        vertical-align: top;\n",
       "    }\n",
       "\n",
       "    .dataframe thead th {\n",
       "        text-align: right;\n",
       "    }\n",
       "</style>\n",
       "<table border=\"1\" class=\"dataframe\">\n",
       "  <thead>\n",
       "    <tr style=\"text-align: right;\">\n",
       "      <th></th>\n",
       "      <th>DateTime</th>\n",
       "      <th>Year</th>\n",
       "      <th>Month</th>\n",
       "      <th>Day</th>\n",
       "      <th>GMT Hour</th>\n",
       "      <th>Minute</th>\n",
       "      <th>t</th>\n",
       "      <th>Lu</th>\n",
       "      <th>Ld</th>\n",
       "    </tr>\n",
       "  </thead>\n",
       "  <tbody>\n",
       "    <tr>\n",
       "      <th>0</th>\n",
       "      <td>2019-01-01</td>\n",
       "      <td>2019</td>\n",
       "      <td>1</td>\n",
       "      <td>1</td>\n",
       "      <td>10</td>\n",
       "      <td>10</td>\n",
       "      <td>0.93</td>\n",
       "      <td>0.47</td>\n",
       "      <td>0.80</td>\n",
       "    </tr>\n",
       "    <tr>\n",
       "      <th>1</th>\n",
       "      <td>2019-01-06</td>\n",
       "      <td>2019</td>\n",
       "      <td>1</td>\n",
       "      <td>6</td>\n",
       "      <td>10</td>\n",
       "      <td>10</td>\n",
       "      <td>0.93</td>\n",
       "      <td>0.46</td>\n",
       "      <td>0.79</td>\n",
       "    </tr>\n",
       "    <tr>\n",
       "      <th>2</th>\n",
       "      <td>2019-01-13</td>\n",
       "      <td>2019</td>\n",
       "      <td>1</td>\n",
       "      <td>13</td>\n",
       "      <td>10</td>\n",
       "      <td>10</td>\n",
       "      <td>0.91</td>\n",
       "      <td>0.56</td>\n",
       "      <td>0.96</td>\n",
       "    </tr>\n",
       "    <tr>\n",
       "      <th>3</th>\n",
       "      <td>2019-01-15</td>\n",
       "      <td>2019</td>\n",
       "      <td>1</td>\n",
       "      <td>15</td>\n",
       "      <td>10</td>\n",
       "      <td>10</td>\n",
       "      <td>0.95</td>\n",
       "      <td>0.32</td>\n",
       "      <td>0.55</td>\n",
       "    </tr>\n",
       "    <tr>\n",
       "      <th>4</th>\n",
       "      <td>2019-01-17</td>\n",
       "      <td>2019</td>\n",
       "      <td>1</td>\n",
       "      <td>17</td>\n",
       "      <td>10</td>\n",
       "      <td>10</td>\n",
       "      <td>0.87</td>\n",
       "      <td>0.80</td>\n",
       "      <td>1.34</td>\n",
       "    </tr>\n",
       "  </tbody>\n",
       "</table>\n",
       "</div>"
      ],
      "text/plain": [
       "     DateTime  Year  Month  Day  GMT Hour  Minute     t    Lu    Ld\n",
       "0  2019-01-01  2019      1    1        10      10  0.93  0.47  0.80\n",
       "1  2019-01-06  2019      1    6        10      10  0.93  0.46  0.79\n",
       "2  2019-01-13  2019      1   13        10      10  0.91  0.56  0.96\n",
       "3  2019-01-15  2019      1   15        10      10  0.95  0.32  0.55\n",
       "4  2019-01-17  2019      1   17        10      10  0.87  0.80  1.34"
      ]
     },
     "execution_count": 12,
     "metadata": {},
     "output_type": "execute_result"
    }
   ],
   "source": [
    "df_atm.head()"
   ]
  },
  {
   "cell_type": "markdown",
   "metadata": {},
   "source": [
    "## 2. WQP maps production\n",
    "\n",
    "This section presents the processing of the Water Quality Parameters maps correspongding to the specific product and map typology."
   ]
  },
  {
   "cell_type": "code",
   "execution_count": 13,
   "metadata": {},
   "outputs": [],
   "source": [
    "# Temptative bounding box for the area of interest\n",
    "bbox = {\n",
    "    'minLat' : 45.3,\n",
    "    'maxLat' : 46.65,\n",
    "    'minLon' : 7.9,\n",
    "    'maxLon' : 9.95,\n",
    "}"
   ]
  },
  {
   "cell_type": "code",
   "execution_count": 14,
   "metadata": {},
   "outputs": [],
   "source": [
    "# Format output processed images\n",
    "writeFormat = 'GeoTIFF'"
   ]
  },
  {
   "cell_type": "markdown",
   "metadata": {},
   "source": [
    "### S3 - Chlorophyll-a (CHL-a) and Total Suspended Matter (TSM)"
   ]
  },
  {
   "cell_type": "markdown",
   "metadata": {},
   "source": [
    "Here, the WQP maps using the Sentinel-3A/B images are derived. The retrieval of the sentinel images can be achieved through the procedure described in the notebook [downloadWEkEO](./downloadWEkEO.ipynb) to import the images directly into the processing directory. Alternatively, it is possible to download the images through [Copernicus Access Hub](https://scihub.copernicus.eu/dhus/#/home), add move the images into the `./in/satellite_imagery/S3` folder and unzip the products into separate folders. "
   ]
  },
  {
   "cell_type": "code",
   "execution_count": 15,
   "metadata": {
    "tags": []
   },
   "outputs": [
    {
     "name": "stdout",
     "output_type": "stream",
     "text": [
      "S3A_OL_1_EFR____20221012T095428_20221012T095728_20221013T150505_0179_091_022_2160_MAR_O_NT_002.SEN3\n",
      "Date: 2022-10-12 09:50 \n",
      "Temperature: 18.9°C\n",
      "S3A 20221012T095728\n",
      "S3A_OL_1_EFR____20221013T092817_20221013T093117_20221014T145103_0179_091_036_2160_MAR_O_NT_002.SEN3\n",
      "Date: 2022-10-13 09:20 \n",
      "Temperature: 18.5°C\n",
      "S3A 20221013T093117\n",
      "S3A_OL_1_EFR____20221015T101655_20221015T101955_20221016T151518_0179_091_065_2160_MAR_O_NT_002.SEN3\n",
      "Date: 2022-10-15 10:10 \n",
      "Temperature: 18.9°C\n",
      "S3A 20221015T101955\n",
      "S3A_OL_1_EFR____20221016T095044_20221016T095344_20221017T144805_0179_091_079_2160_MAR_O_NT_002.SEN3\n",
      "Date: 2022-10-16 09:50 \n",
      "Temperature: 19.5°C\n",
      "S3A 20221016T095344\n",
      "S3B_OL_1_EFR____20221011T094127_20221011T094427_20221012T143842_0179_071_250_2160_MAR_O_NT_002.SEN3\n",
      "Date: 2022-10-11 09:40 \n",
      "Temperature: 16.8°C\n",
      "S3B 20221011T094427\n",
      "S3B_OL_1_EFR____20221012T091516_20221012T091816_20221013T124842_0179_071_264_2160_MAR_O_NT_002.SEN3\n",
      "Date: 2022-10-12 09:10 \n",
      "Temperature: 18.0°C\n",
      "S3B 20221012T091816\n",
      "S3B_OL_1_EFR____20221014T100354_20221014T100654_20221015T145726_0179_071_293_2160_MAR_O_NT_002.SEN3\n",
      "Date: 2022-10-14 10:00 \n",
      "Temperature: 18.3°C\n",
      "S3B 20221014T100654\n",
      "S3B_OL_1_EFR____20221015T093743_20221015T094043_20221016T151703_0179_071_307_2160_MAR_O_NT_002.SEN3\n",
      "Date: 2022-10-15 09:30 \n",
      "Temperature: 17.1°C\n",
      "S3B 20221015T094043\n",
      "S3B_OL_1_EFR____20221016T091132_20221016T091432_20221017T144134_0179_071_321_2160_MAR_O_NT_002.SEN3\n",
      "Date: 2022-10-16 09:10 \n",
      "Temperature: 18.2°C\n",
      "S3B 20221016T091432\n"
     ]
    }
   ],
   "source": [
    "wqpParams = wqpParams_S3\n",
    "for root, dirs, files in os.walk(in_path):\n",
    "    for d in dirs:\n",
    "        if (d != '.ipynb_checkpoints'):\n",
    "            # 1. Read the product\n",
    "            s3_image = wqpSNAP.snapProduct(os.path.join(root,d,'xfdumanifest.xml'),bbox)\n",
    "            s3_image.readSNAPProduct()\n",
    "            s3_image.name = s3_image.path.split('/')[-2]\n",
    "            print(s3_image.name)\n",
    "            try:\n",
    "                # 2. Update the bounding box for the subset selection\n",
    "                params_subset = s3_image.updateSNAPSubset(wqpParams.params_subset)\n",
    "                subset_product = wqpSNAP.executeSNAPFunction(s3_image.product, params_subset)\n",
    "                # 3. Reproject the subset\n",
    "                reproject_product = wqpSNAP.executeSNAPFunction(subset_product, wqpParams.params_reproject)\n",
    "                # 4. Update the C2RCC temperature value. C2RCC wqp products\n",
    "                params_C2RCC = s3_image.updateSNAPTemperature(df_t, wqpParams.params_C2RCC)\n",
    "                c2rcc_product = wqpSNAP.executeSNAPFunction(reproject_product, params_C2RCC)\n",
    "                # 5. Import vector layer\n",
    "                importVector_product = wqpSNAP.executeSNAPFunction(c2rcc_product, wqpParams.params_importVector)\n",
    "                # 6. Band Maths operations\n",
    "                bandMaths_product_C2RCC = wqpSNAP.executeSNAPFunction(importVector_product, wqpParams.params_bandMaths)\n",
    "                bandMaths_product_oa = wqpSNAP.executeSNAPFunction(reproject_product, wqpParams.params_bandMaths_oa)\n",
    "                bandMaths_product_rrs = wqpSNAP.executeSNAPFunction(importVector_product, wqpParams.params_bandMaths_rrs)  \n",
    "                bandMaths_product_masks = wqpSNAP.executeSNAPFunction(importVector_product, wqpParams.params_bandMaths_masks)\n",
    "                # 7. Extract bands\n",
    "                # Product bands to be extracted\n",
    "                bandExtract_product_chl = wqpSNAP.executeSNAPFunction(bandMaths_product_C2RCC, wqpParams.params_bandExtractor_chl)\n",
    "                bandExtract_product_tsm = wqpSNAP.executeSNAPFunction(bandMaths_product_C2RCC, wqpParams.params_bandExtractor_tsm)\n",
    "                bandExtract_product_chl_no_clip = wqpSNAP.executeSNAPFunction(bandMaths_product_C2RCC, wqpParams.params_bandExtractor_chl_no_clip)\n",
    "                bandExtract_product_tsm_no_clip = wqpSNAP.executeSNAPFunction(bandMaths_product_C2RCC, wqpParams.params_bandExtractor_tsm_no_clip)\n",
    "                bandExtract_product_chl_no_mask = wqpSNAP.executeSNAPFunction(bandMaths_product_C2RCC, wqpParams.params_bandExtractor_chl_no_masks)\n",
    "                bandExtract_product_tsm_no_mask = wqpSNAP.executeSNAPFunction(bandMaths_product_C2RCC, wqpParams.params_bandExtractor_tsm_no_masks)\n",
    "                bandExtract_product_chl_cloud_mask = wqpSNAP.executeSNAPFunction(bandMaths_product_C2RCC, wqpParams.params_bandExtractor_chl_cloud_mask)\n",
    "                bandExtract_product_tsm_cloud_mask = wqpSNAP.executeSNAPFunction(bandMaths_product_C2RCC, wqpParams.params_bandExtractor_tsm_cloud_mask)\n",
    "                bandExtract_product_oa = wqpSNAP.executeSNAPFunction(bandMaths_product_oa, wqpParams.params_bandExtractor_oa)\n",
    "                # bandExtract_product_oa = wqpSNAP.executeSNAPFunction(bandMaths_product_oa, wqpParams.params_bandExtractor_oa_18)\n",
    "                bandExtract_product_rrs = wqpSNAP.executeSNAPFunction(bandMaths_product_rrs, wqpParams.params_bandExtractor_rrs)\n",
    "                bandExtract_product_masks = wqpSNAP.executeSNAPFunction(bandMaths_product_masks, wqpParams.params_bandExtractor_masks)\n",
    "                # 8. Save bands\n",
    "                # Define output paths\n",
    "                sensorName = s3_image.name.split('_')[0]\n",
    "                sensorDate = s3_image.name.split('_')[8]\n",
    "                out_path_chl = os.path.join(cwd_path['out_wqp'],'chl',sensorName+'_CHL_IT_'+sensorDate+'_L1')\n",
    "                out_path_tsm = os.path.join(cwd_path['out_wqp'],'tsm',sensorName+'_TSM_IT_'+sensorDate+'_L1')\n",
    "                out_path_chl_no_clip = os.path.join(cwd_path['out_wqp_no_clip'],'chl',sensorName+'_CHL_IT_'+sensorDate+'_L1')\n",
    "                out_path_tsm_no_clip = os.path.join(cwd_path['out_wqp_no_clip'],'tsm',sensorName+'_TSM_IT_'+sensorDate+'_L1')\n",
    "                out_path_chl_no_mask = os.path.join(cwd_path['out_wqp_no_mask'],'chl',sensorName+'_CHL_IT_'+sensorDate+'_L1')\n",
    "                out_path_tsm_no_mask = os.path.join(cwd_path['out_wqp_no_mask'],'tsm',sensorName+'_TSM_IT_'+sensorDate+'_L1')\n",
    "                out_path_chl_cloud_mask = os.path.join(cwd_path['out_wqp_cloud'],'chl',sensorName+'_CHL_IT_'+sensorDate+'_L1')\n",
    "                out_path_tsm_cloud_mask = os.path.join(cwd_path['out_wqp_cloud'],'tsm',sensorName+'_TSM_IT_'+sensorDate+'_L1')\n",
    "                out_path_mask = os.path.join(cwd_path['out_masks'],sensorName+'_IT_'+sensorDate+'_L1')\n",
    "                out_path_oa = os.path.join(cwd_path['out_oa'],sensorName+'_IT_'+sensorDate+'_L1')\n",
    "                out_path_rrs = os.path.join(cwd_path['out_rrs'],sensorName+'_IT_'+sensorDate+'_L1')\n",
    "                # Save Bands\n",
    "                wqpSNAP.exportProductBands(bandExtract_product_chl, out_path_chl, writeFormat)\n",
    "                wqpSNAP.exportProductBands(bandExtract_product_tsm, out_path_tsm, writeFormat)\n",
    "                wqpSNAP.exportProductBands(bandExtract_product_chl_no_clip, out_path_chl_no_clip, writeFormat)\n",
    "                wqpSNAP.exportProductBands(bandExtract_product_tsm_no_clip, out_path_tsm_no_clip, writeFormat)\n",
    "                wqpSNAP.exportProductBands(bandExtract_product_chl_no_mask, out_path_chl_no_mask, writeFormat)\n",
    "                wqpSNAP.exportProductBands(bandExtract_product_tsm_no_mask, out_path_tsm_no_mask, writeFormat)\n",
    "                wqpSNAP.exportProductBands(bandExtract_product_chl_cloud_mask, out_path_chl_cloud_mask, writeFormat)\n",
    "                wqpSNAP.exportProductBands(bandExtract_product_tsm_cloud_mask, out_path_tsm_cloud_mask, writeFormat)\n",
    "                wqpSNAP.exportProductBands(bandExtract_product_masks, out_path_mask, writeFormat)\n",
    "                wqpSNAP.exportProductBands(bandExtract_product_oa, out_path_oa, writeFormat)\n",
    "                wqpSNAP.exportProductBands(bandExtract_product_rrs, out_path_rrs, writeFormat)\n",
    "                # Clean environment\n",
    "                subset_product.dispose() \n",
    "                reproject_product.dispose()\n",
    "                c2rcc_product.dispose()\n",
    "                importVector_product.dispose()\n",
    "                bandExtract_product_chl.dispose()\n",
    "                bandExtract_product_tsm.dispose()\n",
    "                bandExtract_product_chl_no_mask.dispose()\n",
    "                bandExtract_product_tsm_no_mask.dispose()\n",
    "                bandExtract_product_chl_cloud_mask.dispose()\n",
    "                bandExtract_product_tsm_cloud_mask.dispose()\n",
    "                bandExtract_product_rrs.dispose()\n",
    "                bandExtract_product_oa.dispose()\n",
    "                bandExtract_product_masks.dispose()\n",
    "                del s3_image\n",
    "                del subset_product\n",
    "                del reproject_product\n",
    "                del c2rcc_product\n",
    "                del importVector_product\n",
    "                del bandExtract_product_chl\n",
    "                del bandExtract_product_tsm\n",
    "                del bandExtract_product_chl_no_mask\n",
    "                del bandExtract_product_tsm_no_mask\n",
    "                del bandExtract_product_chl_cloud_mask\n",
    "                del bandExtract_product_tsm_cloud_mask\n",
    "                del bandExtract_product_rrs\n",
    "                del bandExtract_product_oa\n",
    "                del bandExtract_product_masks\n",
    "            except:\n",
    "                # Open a file with access mode 'a'\n",
    "                file_object = open(os.path.join(cwd_path['out'],f'error_images_{sensor.value}.txt'), 'a')\n",
    "                # Append 'hello' at the end of file\n",
    "                file_object.write(s3_image.name)\n",
    "                file_object.write(\"\\n\")\n",
    "                # Close the file\n",
    "                file_object.close()"
   ]
  },
  {
   "cell_type": "markdown",
   "metadata": {},
   "source": [
    "**Note:** There are several products that you can extract from the outputs of the WQP processing. Depending on your needs you can uncomment the different lines in the code to produce them. Here, we focus in the production of the WQP maps and the extraction of the reference bands used for the coregistration of the images. In this case, the reference band used for the images coregistration of the images correspond to Band 18 of the S3-OLCI images ([Sentinel-3 OLCI bands reference](https://sentinels.copernicus.eu/web/sentinel/user-guides/sentinel-3-olci/resolutions/radiometric))."
   ]
  },
  {
   "cell_type": "markdown",
   "metadata": {
    "tags": []
   },
   "source": [
    "### L8 - Land Surface Water Temperature (LSWT)"
   ]
  },
  {
   "cell_type": "markdown",
   "metadata": {},
   "source": [
    "Here, the WQP maps using the Landsat-8 images are derived. It is possible to download the images through [USGS Earth explorer](https://earthexplorer.usgs.gov/), add move the images into the `./in/satellite_imagery/L8` folder and unzip the products into separate folders."
   ]
  },
  {
   "cell_type": "code",
   "execution_count": 17,
   "metadata": {
    "scrolled": true,
    "tags": []
   },
   "outputs": [
    {
     "name": "stdout",
     "output_type": "stream",
     "text": [
      "./in/satellite_imagery/L8\n",
      "./in/satellite_imagery/L8\n",
      "Date: 2019-06-01 00:00:00 \n",
      " Lu: 2.01, t: 0.74, Ld: 3.26\n",
      "./in/wqp/L8/wqp_high_clouds/lswt/L8_LSWT_IT_20190601_L1\n",
      "./in/satellite_imagery/L8\n",
      "Date: 2019-07-19 00:00:00 \n",
      " Lu: 3.03, t: 0.62, Ld: 4.74\n",
      "./in/wqp/L8/wqp_high_clouds/lswt/L8_LSWT_IT_20190719_L1\n"
     ]
    }
   ],
   "source": [
    "wqpParams = wqpParams_L8\n",
    "for root, dirs, files in os.walk(in_path):\n",
    "    for f in files:\n",
    "        if f.endswith('MTL.txt'):\n",
    "            # 1. Read the product\n",
    "            l8_image = wqpSNAP.snapProduct(os.path.join(root,f),bbox)\n",
    "            l8_image.readSNAPProduct()\n",
    "            l8_image.name = l8_image.path.split('/')[-2].split('.')[0]\n",
    "            params_bandMaths = l8_image.updateSNAPAtmCorr(df_atm,wqpParams.params_bandMaths)\n",
    "            try:\n",
    "                # 2. Update the bounding box for the subset selection\n",
    "                params_subset = l8_image.updateSNAPSubset(wqpParams.params_subset)\n",
    "                subset_product = wqpSNAP.executeSNAPFunction(l8_image.product, params_subset)\n",
    "                # 3. Reproject the subset\n",
    "    #                 reproject_product = wqpSNAP.executeSNAPFunction(subset_product, wqpParams.params_reproject) \n",
    "                # 4. Resample\n",
    "                resample_product = wqpSNAP.executeSNAPFunction(subset_product, wqpParams.params_resample)\n",
    "                # 5. Import-Vector\n",
    "                importVector_product = wqpSNAP.executeSNAPFunction(resample_product, wqpParams.params_importVector)\n",
    "                # 6. BandMaths\n",
    "                bandMaths_product = wqpSNAP.executeSNAPFunction(importVector_product, params_bandMaths)\n",
    "                bandMaths_product_masks = wqpSNAP.executeSNAPFunction(importVector_product, wqpParams.params_bandMaths_masks)\n",
    "                # 7. BandExtract\n",
    "                bandExtract_product_lswt = wqpSNAP.executeSNAPFunction(bandMaths_product, wqpParams.params_bandExtractor_lswt)\n",
    "                bandExtract_product_lswt_mid_high = wqpSNAP.executeSNAPFunction(bandMaths_product, wqpParams.params_bandExtractor_lswt_mid_high)\n",
    "                bandExtract_product_lswt_high = wqpSNAP.executeSNAPFunction(bandMaths_product, wqpParams.params_bandExtractor_lswt_high)\n",
    "                bandExtract_product_masks = wqpSNAP.executeSNAPFunction(bandMaths_product_masks, wqpParams.params_bandExtractor_masks)\n",
    "                # 8. Export bands\n",
    "                # Output paths\n",
    "                sensorDate = l8_image.name.split('_')[3]\n",
    "                out_path_lswt = os.path.join(cwd_path['out_wqp'],'lswt',sensor.value+'_LSWT_IT_'+sensorDate+'_L1')\n",
    "                out_path_lswt_mid_high = os.path.join(cwd_path['out_wqp_mid_high_clouds'],'lswt',sensor.value+'_LSWT_IT_'+sensorDate+'_L1')\n",
    "                out_path_lswt_high = os.path.join(cwd_path['out_wqp_high_clouds'],'lswt',sensor.value+'_LSWT_IT_'+sensorDate+'_L1')\n",
    "                out_path_mask = os.path.join(cwd_path['out_masks'],sensor.value+'_LSWT_IT_'+sensorDate+'_L1')\n",
    "                print(out_path_lswt_high)\n",
    "                #Save Bands\n",
    "                wqpSNAP.exportProductBands(bandExtract_product_lswt, out_path_lswt, writeFormat)\n",
    "                wqpSNAP.exportProductBands(bandExtract_product_lswt_mid_high, out_path_lswt_mid_high, writeFormat)\n",
    "                wqpSNAP.exportProductBands(bandExtract_product_lswt_high, out_path_lswt_high, writeFormat)\n",
    "                wqpSNAP.exportProductBands(bandExtract_product_masks, out_path_mask, writeFormat)\n",
    "                \n",
    "                subset_product.dispose() \n",
    "                importVector_product.dispose()\n",
    "                resample_product.dispose()\n",
    "                bandMaths_product.dispose()\n",
    "                bandMaths_product_masks.dispose()\n",
    "                bandExtract_product_lswt.dispose()\n",
    "                bandExtract_product_lswt_mid_high.dispose()\n",
    "                bandExtract_product_lswt_high.dispose()\n",
    "                bandExtract_product_masks.dispose()\n",
    "                \n",
    "                del subset_product\n",
    "                del importVector_product\n",
    "                del resample_product\n",
    "                del bandExtract_product_lswt\n",
    "                del bandExtract_product_lswt_mid_high\n",
    "                del bandExtract_product_lswt_high\n",
    "                del bandExtract_product_masks\n",
    "                del bandMaths_product\n",
    "                del bandMaths_product_masks\n",
    "            except:\n",
    "                # Open a file with access mode 'a'\n",
    "                file_object = open(os.path.join(cwd_path['out'],f'error_images_{sensor.value}.txt'), 'a')\n",
    "                file_object.write(l8_image.name)\n",
    "                file_object.write(\"\\n\")\n",
    "                # Close the file\n",
    "                file_object.close()"
   ]
  },
  {
   "cell_type": "markdown",
   "metadata": {
    "tags": []
   },
   "source": [
    "### EUMETSAT products extract"
   ]
  },
  {
   "cell_type": "code",
   "execution_count": 16,
   "metadata": {},
   "outputs": [
    {
     "name": "stdout",
     "output_type": "stream",
     "text": [
      "S3A_OL_1_EFR____20221012T095428_20221012T095728_20221013T150505_0179_091_022_2160_MAR_O_NT_002\n",
      "S3A_OL_1_EFR____20221013T092817_20221013T093117_20221014T145103_0179_091_036_2160_MAR_O_NT_002\n",
      "S3A_OL_1_EFR____20221015T101655_20221015T101955_20221016T151518_0179_091_065_2160_MAR_O_NT_002\n",
      "S3A_OL_1_EFR____20221016T095044_20221016T095344_20221017T144805_0179_091_079_2160_MAR_O_NT_002\n",
      "S3B_OL_1_EFR____20221011T094127_20221011T094427_20221012T143842_0179_071_250_2160_MAR_O_NT_002\n",
      "S3B_OL_1_EFR____20221012T091516_20221012T091816_20221013T124842_0179_071_264_2160_MAR_O_NT_002\n",
      "S3B_OL_1_EFR____20221014T100354_20221014T100654_20221015T145726_0179_071_293_2160_MAR_O_NT_002\n",
      "S3B_OL_1_EFR____20221015T093743_20221015T094043_20221016T151703_0179_071_307_2160_MAR_O_NT_002\n",
      "S3B_OL_1_EFR____20221016T091132_20221016T091432_20221017T144134_0179_071_321_2160_MAR_O_NT_002\n"
     ]
    }
   ],
   "source": [
    "wqpParams = wqpParams_EUMETSAT\n",
    "#Image processing of the files in the input folder\n",
    "for root, directories, files in os.walk(cwd_path['in'], topdown=False):\n",
    "    for f in files:\n",
    "        if (f.endswith('.xml')):\n",
    "            try:\n",
    "                # 1. Read the product\n",
    "                EUMETSAT_image = wqpSNAP.snapProduct(os.path.join(root,f),bbox)\n",
    "                EUMETSAT_image.readSNAPProduct()\n",
    "                EUMETSAT_image.name = EUMETSAT_image.path.split('/')[-2].split('.')[0]\n",
    "                print(EUMETSAT_image.name)\n",
    "                # 2. Update the bounding box for the subset selection\n",
    "                params_subset = EUMETSAT_image.updateSNAPSubset(wqpParams.params_subset)\n",
    "                subset_product = wqpSNAP.executeSNAPFunction(EUMETSAT_image.product, params_subset)\n",
    "                # 3. Reproject\n",
    "                reproject_product = wqpSNAP.executeSNAPFunction(subset_product, wqpParams.params_reproject)\n",
    "                # 4. Import-Vector\n",
    "                importVector_product = wqpSNAP.executeSNAPFunction(reproject_product, wqpParams.params_importVector)\n",
    "                # 5. BandMaths\n",
    "                bandMaths_product = wqpSNAP.executeSNAPFunction(importVector_product, wqpParams.params_bandMaths)\n",
    "                # 6. BandExtract+\n",
    "                bandExtract_product_chl_nn = wqpSNAP.executeSNAPFunction(bandMaths_product, wqpParams.params_bandExtractor_chl_nn)\n",
    "                bandExtract_product_chl_oc4me = wqpSNAP.executeSNAPFunction(bandMaths_product, wqpParams.params_bandExtractor_chl_oc4me)\n",
    "                bandExtract_product_tsm_nn = wqpSNAP.executeSNAPFunction(bandMaths_product, wqpParams.params_bandExtractor_tsm_nn)\n",
    "                # 7. Write Subset test\n",
    "                sensor_date = EUMETSAT_image.name.split('_')[7]\n",
    "                sensor_value = EUMETSAT_image.name.split('_')[0]\n",
    "                wqpSNAP.exportProductBands(bandExtract_product_chl_nn ,os.path.join(cwd_path['out_chl_nn'],sensor_value+'_CHL_IT_'+sensor_date+'_L1'), writeFormat)\n",
    "                wqpSNAP.exportProductBands(bandExtract_product_chl_oc4me,os.path.join(cwd_path['out_chl_oc4me'],sensor_value+'_CHL_IT_'+sensor_date+'_L1'), writeFormat)\n",
    "                wqpSNAP.exportProductBands(bandExtract_product_tsm_nn,os.path.join(cwd_path['out_tsm_nn'],sensor_value+'_TSM_IT_'+sensor_date+'_L1'), writeFormat)\n",
    "                \n",
    "                subset_product.dispose() \n",
    "                importVector_product.dispose()\n",
    "                bandMaths_product.dispose()\n",
    "                bandExtract_product_chl_nn.dispose()\n",
    "                bandExtract_product_chl_oc4me.dispose()\n",
    "                bandExtract_product_tsm_nn.dispose()\n",
    "                del subset_product\n",
    "                del importVector_product\n",
    "                del bandExtract_product_chl_nn\n",
    "                del bandExtract_product_chl_oc4me\n",
    "                del bandExtract_product_tsm_nn\n",
    "            except:\n",
    "                # Open a file with access mode 'a'\n",
    "                file_object = open(os.path.join('./in/satellite_imagery',f'error_images_{sensor.value}.txt'), 'a')\n",
    "                # Append 'hello' at the end of file\n",
    "                file_object.write(EUMETSAT_image.name)\n",
    "                file_object.write(\"\\n\")\n",
    "                # Close the file\n",
    "                file_object.close()"
   ]
  },
  {
   "cell_type": "code",
   "execution_count": null,
   "metadata": {},
   "outputs": [],
   "source": []
  }
 ],
 "metadata": {
  "kernelspec": {
   "display_name": "snapEnv (Python)",
   "language": "python",
   "name": "snapenv"
  },
  "language_info": {
   "codemirror_mode": {
    "name": "ipython",
    "version": 3
   },
   "file_extension": ".py",
   "mimetype": "text/x-python",
   "name": "python",
   "nbconvert_exporter": "python",
   "pygments_lexer": "ipython3",
   "version": "3.6.15"
  }
 },
 "nbformat": 4,
 "nbformat_minor": 4
}
