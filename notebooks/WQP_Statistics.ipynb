{
 "cells": [
  {
   "cell_type": "markdown",
   "metadata": {},
   "source": [
    "# Water Quality Parameters"
   ]
  },
  {
   "cell_type": "markdown",
   "metadata": {},
   "source": [
    "This notebook aims at computing the descriptive statistics for the WQP maps, or any raster, by defining specific features from which these statistics are requested (located within the [in](./in) folder). In addition, the analysis of the WQP maps will consider de extraction of sampling data inside the pixels to review the estimates."
   ]
  },
  {
   "cell_type": "code",
   "execution_count": 1,
   "metadata": {},
   "outputs": [
    {
     "data": {
      "text/html": [
       "<style>\n",
       "/* Config settings*/\n",
       "@import url(https://fonts.googleapis.com/css?family=Open+Sans);\n",
       "body{\n",
       "   font-family: 'Open Sans';\n",
       "}\n",
       "\n",
       "/* Styling the Jupyter Notebook GUI*/\n",
       "#ipython_notebook::before{\n",
       "    content:\"\"\n",
       "   }\n",
       "\n",
       "/* #ipython_notebook img{\n",
       "display:none;\n",
       "} */\n",
       "\n",
       "/*Styling the elements in the Jupyter Notebook*/\n",
       "h1 {\n",
       "    color: white;\n",
       "    border: 1.5px solid rgb(46, 96, 177);\n",
       "    padding: 8px 12px;\n",
       "    background: rgba(37, 107, 182, 0.5);\n",
       "    position: static;\n",
       "}\n",
       "\n",
       "h2 {\n",
       "    color: white;\n",
       "    border: 1.5px solid rgb(46, 170, 177);\n",
       "    padding: 8px 12px;\n",
       "    background: rgba(46, 170, 177, 0.5);\n",
       "    position: static;\n",
       "}\n",
       "\n",
       "h3 {\n",
       "    color: white;\n",
       "    border: 1.5px solid rgb(192, 119, 255);\n",
       "    padding: 8px 12px;\n",
       "    background: rgba(170, 74, 255, 0.5);\n",
       "    position: static;\n",
       "}\n",
       "\n",
       ".note {\n",
       "    background-color: rgba(0, 255, 162, 0.503);\n",
       "}\n",
       "\n",
       ".warning {\n",
       "    background-color: rgba(246, 255, 0, 0.503);\n",
       "}\n",
       "\n",
       ".important {\n",
       "    background-color: rgba(255, 187, 0, 0.503);\n",
       "}\n",
       "\n",
       "\n",
       "</style>"
      ],
      "text/plain": [
       "<IPython.core.display.HTML object>"
      ]
     },
     "execution_count": 1,
     "metadata": {},
     "output_type": "execute_result"
    }
   ],
   "source": [
    "# Styling notebook\n",
    "\n",
    "# System\n",
    "import os\n",
    "import sys\n",
    "\n",
    "# Import scripts libraries for the project\n",
    "sys.path.append('./src/python')\n",
    "\n",
    "# Import the function to update the notebook style\n",
    "from nbConfig import (css_styling)\n",
    "\n",
    "css_styling()"
   ]
  },
  {
   "cell_type": "code",
   "execution_count": 2,
   "metadata": {},
   "outputs": [],
   "source": [
    "from matplotlib import rcParams\n",
    "font = {'family' : 'Georgia',\n",
    "#         'weight' : 'bold',\n",
    "        'size'   : 12}"
   ]
  },
  {
   "cell_type": "markdown",
   "metadata": {},
   "source": [
    "## 0. Import Libraries"
   ]
  },
  {
   "cell_type": "code",
   "execution_count": 3,
   "metadata": {},
   "outputs": [],
   "source": [
    "# Data\n",
    "import numpy as np\n",
    "import pandas as pd\n",
    "\n",
    "# Spatial Data\n",
    "import geopandas as gpd\n",
    "import rasterio\n",
    "from rasterstats import zonal_stats\n",
    "\n",
    "# Data visualization\n",
    "import matplotlib.pyplot as plt\n",
    "from matplotlib_scalebar.scalebar import ScaleBar\n",
    "import seaborn as sns\n",
    "from rasterio.plot import show_hist\n",
    "import ipywidgets as wg\n",
    "\n",
    "# Import custom libraries\n",
    "import wqpFunctions as wqp"
   ]
  },
  {
   "cell_type": "markdown",
   "metadata": {},
   "source": [
    "Define the working directory for the WQP processing"
   ]
  },
  {
   "cell_type": "code",
   "execution_count": 4,
   "metadata": {},
   "outputs": [],
   "source": [
    "# Current Working Directories\n",
    "cwd = {\n",
    "    'local': '.',\n",
    "    'in': './in/wqp/',\n",
    "    'out': './out/outlier_rejection',\n",
    "    'vector': './vector',\n",
    "}"
   ]
  },
  {
   "cell_type": "markdown",
   "metadata": {},
   "source": [
    "Import the vector files for data extraction of the WQP maps"
   ]
  },
  {
   "cell_type": "code",
   "execution_count": 5,
   "metadata": {},
   "outputs": [],
   "source": [
    "# Layer dataset\n",
    "gdf_lakes = gpd.read_file(os.path.join(cwd['vector'],'simile_laghi','simile_laghi.shp'))\n",
    "# Buoy position in the lake\n",
    "gdf_buoy = gpd.read_file(os.path.join(cwd['vector'],'boa_sample_points','boa_sample_points.shp'))\n",
    "# Random sampling points\n",
    "gdf_sample = gpd.read_file(os.path.join(cwd['vector'],'random_points','random_points.shp'))"
   ]
  },
  {
   "cell_type": "markdown",
   "metadata": {},
   "source": [
    "Here, different vector layers are needed to carry out the following statistical analysis of the results form the WQP production. The next statement presents the lake's delineation along with the sampling points. The lake's delineation, extracted from the [Carta Tecnica Regionale 1:10.000 - CT10](https://www.geoportale.regione.lombardia.it/metadati?p_p_id=detailSheetMetadata_WAR_gptmetadataportlet&p_p_lifecycle=0&p_p_state=normal&p_p_mode=view&_detailSheetMetadata_WAR_gptmetadataportlet_uuid=%7BD42AE439-06FE-4E4E-93CF-ECDC9B564118%7D) available at the [Lombardy Region GeoPortal](https://www.geoportale.regione.lombardia.it/), is used for the computation of the descriptive statistics of the lakes WQP parameters per lake. While the second vector file are ranodmly generated random point for the statistical analysis of the WQP maps."
   ]
  },
  {
   "cell_type": "code",
   "execution_count": 6,
   "metadata": {},
   "outputs": [
    {
     "name": "stderr",
     "output_type": "stream",
     "text": [
      "findfont: Font family ['Georgia'] not found. Falling back to DejaVu Sans.\n"
     ]
    },
    {
     "data": {
      "image/png": "[encoded data removed]",
      "text/plain": [
       "<Figure size 720x720 with 1 Axes>"
      ]
     },
     "metadata": {
      "needs_background": "light"
     },
     "output_type": "display_data"
    }
   ],
   "source": [
    "fig, ax = plt.subplots(figsize=(10,10))\n",
    "plt.rc('font', **font)\n",
    "gdf_lakes.plot(ax = ax, color= 'blue', edgecolor='k', alpha = 0.3)\n",
    "gdf_sample.plot(ax = ax, color='red')\n",
    "gdf_buoy.plot(ax = ax, color='green')\n",
    "\n",
    "scale = ScaleBar(\n",
    "    dx=1,\n",
    "    location='lower right',  # in relation to the whole plot\n",
    "    label_loc='left', scale_loc='bottom',  # in relation to the line\n",
    ")\n",
    "\n",
    "ax.set_title('Sampling Points')\n",
    "ax.tick_params(labelsize=12)\n",
    "ax.set_xlabel('[m]')\n",
    "ax.set_ylabel('[m]')\n",
    "ax.add_artist(scale)\n",
    "ax.legend(['Sampling Points','Buoys Location'])\n",
    "ax.ticklabel_format(axis='both', style='sci', scilimits=(5,4))\n",
    "\n",
    "ax.arrow(4.6e5,5.11e6,0,1000)\n",
    "ax.grid()"
   ]
  },
  {
   "cell_type": "markdown",
   "metadata": {},
   "source": [
    "Review the contents of the folder"
   ]
  },
  {
   "cell_type": "markdown",
   "metadata": {},
   "source": [
    "### Select WQP and Outlier Rejection Method"
   ]
  },
  {
   "cell_type": "markdown",
   "metadata": {},
   "source": [
    "The outlier rejection methods implemented within this work consider different filters. For the production of the WQP maps, the 3$\\sigma$ has been selected as the default filter for the identification and extraction of the outliers from the WQP outputs."
   ]
  },
  {
   "cell_type": "code",
   "execution_count": 7,
   "metadata": {},
   "outputs": [],
   "source": [
    "SENSOR_LIST = ['S3','L8','EUMETSAT']\n",
    "sensor = wg.Select(\n",
    "    options = SENSOR_LIST,\n",
    "    value = SENSOR_LIST[1],\n",
    "    description = 'Select the sensor:',\n",
    "    disabled = False,\n",
    "    style = {\n",
    "        'description_width': 'auto'\n",
    "    },\n",
    "    layout = wg.Layout(width='20%', height='100px'),\n",
    ")"
   ]
  },
  {
   "cell_type": "code",
   "execution_count": 8,
   "metadata": {},
   "outputs": [],
   "source": [
    "WQP_LIST = ['chl','tsm','lswt']\n",
    "wqpMaps = wg.Select(\n",
    "    options = WQP_LIST,\n",
    "    value = WQP_LIST[2],\n",
    "    description = 'Select the wqp:',\n",
    "    disabled = False,\n",
    "    style = {\n",
    "        'description_width': 'auto'\n",
    "    },\n",
    "    layout = wg.Layout(width='15%', height='100px'),\n",
    ")"
   ]
  },
  {
   "cell_type": "code",
   "execution_count": 9,
   "metadata": {},
   "outputs": [],
   "source": [
    "OUTLIERS_METHOD_LIST = ['IQR','2Sigma','3Sigma']\n",
    "outlierMethods = wg.Select(\n",
    "    options = OUTLIERS_METHOD_LIST,\n",
    "    value = OUTLIERS_METHOD_LIST[0],\n",
    "    description = 'Select the outlier method:',\n",
    "    disabled = False,\n",
    "    style = {\n",
    "        'description_width': 'auto'\n",
    "    },\n",
    "    layout = wg.Layout(width='30%', height='100px'),\n",
    ")"
   ]
  },
  {
   "cell_type": "code",
   "execution_count": 10,
   "metadata": {},
   "outputs": [],
   "source": [
    "REF_PROD_LIST = ['wqp','wqp_cloud_mask','wqp_no_clip','wqp_no_mask','wqp_high_clouds','wqp_mid_high_clouds', 'full_outlierRejection']#last 2 L8\n",
    "refProducts = wg.Select(\n",
    "    options = REF_PROD_LIST,\n",
    "    value = REF_PROD_LIST[4],\n",
    "    description = 'Select ref product:',\n",
    "    disabled = False,\n",
    "    style = {\n",
    "        'description_width': 'auto'\n",
    "    },\n",
    "    layout = wg.Layout(width='35%', height='100px'),\n",
    ")"
   ]
  },
  {
   "cell_type": "code",
   "execution_count": 11,
   "metadata": {},
   "outputs": [
    {
     "data": {
      "application/vnd.jupyter.widget-view+json": {
       "model_id": "643c4cd9cb8c4c01942d038c79072c36",
       "version_major": 2,
       "version_minor": 0
      },
      "text/plain": [
       "HBox(children=(Select(description='Select the sensor:', index=1, layout=Layout(height='100px', width='20%'), o…"
      ]
     },
     "metadata": {},
     "output_type": "display_data"
    }
   ],
   "source": [
    "wg.HBox([sensor,wqpMaps, outlierMethods,refProducts])"
   ]
  },
  {
   "cell_type": "markdown",
   "metadata": {},
   "source": [
    "## 1. WQP Descriptive Statistics and Sampling Points"
   ]
  },
  {
   "cell_type": "code",
   "execution_count": null,
   "metadata": {
    "scrolled": true
   },
   "outputs": [],
   "source": [
    "# in_path = os.path.join('.\\\\in\\\\data\\\\wqp\\\\S3\\\\wqp\\\\tsm\\\\cropped')\n",
    "in_path = os.path.join('./extract_lswt')\n",
    "# in_path = os.path.join('./in/data/wqp/L8/wqp_high_clouds/lswt/cropped')\n",
    "# in_path = os.path.join('./out/OutlierRejection/wqp/3Sigma/lswt')\n",
    "# in_path = os.path.join(cwd['out'],'wqp',outlierMethods.value, wqpMaps.value)\n",
    "# in_path = os.path.join('./out/Coregistration/wqp/S3/full/chl')\n",
    "# in_path = os.path.join('./out/Coregistration/wqp/S3/full_outlierRejection/3Sigma/tsm')\n",
    "# out_path = os.path.join('.\\\\in\\\\data\\\\wqp\\\\S3\\\\wqp\\\\tsm\\\\cropped')\n",
    "# out_path = os.path.join(cwd['out'],'wqp',outlierMethods.value, wqpMaps.value)\n",
    "# out_path = os.path.join('./out/OutlierRejection/wqp/3Sigma/lswt')\n",
    "# out_path = os.path.join('./out/Coregistration/wqp/S3/full_outlierRejection/3Sigma/tsm')\n",
    "out_path = os.path.join('./extract_lswt')\n",
    "for root, dirs, files in os.walk(in_path):\n",
    "    for file in files:\n",
    "        try:\n",
    "            # Verify check if the stats and products have been computed\n",
    "            if ((file.endswith('.tif')) & (dirs != ['outliers'])):\n",
    "                if (file.split('.') not in os.listdir(in_path)):\n",
    "                    f = os.path.join(in_path,file)\n",
    "                    \n",
    "                    # Read file\n",
    "                    src = wqp.wqp(f)\n",
    "                    src.readWQP()\n",
    "                    print(src.name)\n",
    "#                     src.name\n",
    "                    # Export dataset (check no data values)\n",
    "#                     t = src.image.read(1)\n",
    "#                     t = np.nan_to_num(t)\n",
    "#                     t[t<=0] = np.nan\n",
    "#                     src.writeWQP(cwd['out'],t)\n",
    "\n",
    "                    # Extract information from sampling points\n",
    "        #             src.extractSamplePoints(gdf_sample)\n",
    "        #             src.extractSamplePoints(gdf_buoy)\n",
    "        #             src.samplePoint.to_csv(os.path.join(cwd['out'],'sample_points',src.name+'.csv'))\n",
    "\n",
    "                    # Compute statistics for the lakes polygons\n",
    "                    src.computeStatistics(gdf_lakes, 'Nome',\"count min mean max median std  percentile_25 percentile_50 percentile_75\",-9999)\n",
    "\n",
    "                    # Format output\n",
    "                    df = wqp.wqp.exportWQPFormatStats(src)\n",
    "\n",
    "                    # Export the statistics result to a file (append data if existing)\n",
    "                    out_file = os.path.join(out_path,f'lakesStats_{wqpMaps.value}.csv')\n",
    "#                     print(out_path,f'lakesStats_{wqpMaps.value}.csv')\n",
    "                    if os.path.exists(out_file):\n",
    "                        df.to_csv(os.path.join(out_path,f'lakesStats_{wqpMaps.value}.csv'),mode='a', header=False)\n",
    "                    else:\n",
    "                        df.to_csv(os.path.join(out_path,f'lakesStats_{wqpMaps.value}.csv')) \n",
    "        except:\n",
    "            print(err)"
   ]
  },
  {
   "cell_type": "markdown",
   "metadata": {},
   "source": [
    "## 2. Outlier Rejection Methods"
   ]
  },
  {
   "cell_type": "markdown",
   "metadata": {},
   "source": [
    "Create the outliers \"free\" maps based on the selected wqpMaps and outlierMethods selected above"
   ]
  },
  {
   "cell_type": "code",
   "execution_count": 20,
   "metadata": {
    "tags": []
   },
   "outputs": [
    {
     "name": "stdout",
     "output_type": "stream",
     "text": [
      "Lake Maggiore does not overlay the raster layer\n",
      "Missing Stats for Lake Lugano\n",
      "Missing Stats for Lake Maggiore\n",
      "Missing Stats for Lake Como\n",
      "Missing Stats for Lake Lugano\n",
      "Lake Como does not overlay the raster layer\n",
      "Missing Stats for Lake Lugano\n",
      "Lake Maggiore does not overlay the raster layer\n",
      "Missing Stats for Lake Lugano\n"
     ]
    }
   ],
   "source": [
    "in_path = os.path.join(cwd['in'],sensor.value,refProducts.value,wqpMaps.value)\n",
    "out_path = os.path.join(cwd['out'],'wqp',outlierMethods.value, wqpMaps.value)\n",
    "shared_maps = list(set(os.listdir(in_path)).intersection(os.listdir(out_path)))\n",
    "missing_maps = list(set(os.listdir(in_path)) ^ set(os.listdir(out_path)))\n",
    "for root, dirs, files in os.walk(in_path):\n",
    "    for file in missing_maps:\n",
    "        if (file.endswith('.tif')):\n",
    "            f = os.path.join(in_path,file)\n",
    "            try:\n",
    "                # Read file\n",
    "                src = wqp.wqp(f)\n",
    "                src.readWQP()\n",
    "                # Crop the lakes by the lakes \n",
    "                src.cropRasterByFeatures(os.path.join(cwd['vector'],'simile_laghi','simile_laghi.shp'),'Nome')\n",
    "\n",
    "                # Compute statistics for the lakes polygons\n",
    "                src.computeStatistics(gdf_lakes, 'Nome',\"count min mean max median std percentile_25 percentile_50 percentile_75\",0)\n",
    "                \n",
    "                # Apply the outlier rejection method\n",
    "                src.outlierRejection(method=outlierMethods.value, minLower=0, maxUpper = 30)    \n",
    "\n",
    "                # Export the outlier rejection products\n",
    "                src.mergeRasterCollectionsExport(src.raster_collection, os.path.join(out_path, src.name + '.tif'))\n",
    "                src.mergeRasterCollectionsExport(src.outliers_collection, os.path.join(out_path,'outliers', src.name + '.tif'))\n",
    "\n",
    "                # Export outliers data\n",
    "                df = wqp.wqp.exportWQPFormatStatsOutliers(src)\n",
    "                \n",
    "                # Export the statistics result to a file (append data if existing)\n",
    "                out_file = os.path.join(out_path,'outliers',f'lakesStats_{outlierMethods.value}_{wqpMaps.value}.csv')\n",
    "\n",
    "                if os.path.exists(out_file):\n",
    "                    df.to_csv(os.path.join(out_path,'outliers',f'lakesStats_{outlierMethods.value}_{wqpMaps.value}.csv'),mode='a', header=False)\n",
    "                else:\n",
    "                    df.to_csv(os.path.join(out_path,'outliers',f'lakesStats_{outlierMethods.value}_{wqpMaps.value}.csv')) \n",
    "            except:\n",
    "                # Open a file with access mode 'a'\n",
    "                file_object = open(os.path.join(out_path,f'error_images_{sensor.value}.txt'), 'a')\n",
    "                # Append 'hello' at the end of file\n",
    "                file_object.write(src.name)\n",
    "                file_object.write(\"\\n\")\n",
    "                # Close the file\n",
    "                file_object.close()"
   ]
  },
  {
   "cell_type": "code",
   "execution_count": 31,
   "metadata": {
    "collapsed": true,
    "jupyter": {
     "outputs_hidden": true
    },
    "tags": []
   },
   "outputs": [
    {
     "name": "stdout",
     "output_type": "stream",
     "text": [
      "./out/images_coregistration/wqp/full_coregistered/chl\n",
      "./out/images_coregistration/wqp/full_coregistered_or/3Sigma/chl\n"
     ]
    }
   ],
   "source": [
    "in_path = os.path.join('./out/images_coregistration/wqp','full_coregistered',wqpMaps.value)\n",
    "out_path = os.path.join('./out/images_coregistration/wqp','full_coregistered_or',outlierMethods.value,wqpMaps.value)\n",
    "print(in_path)\n",
    "print(out_path)"
   ]
  },
  {
   "cell_type": "markdown",
   "metadata": {},
   "source": [
    "## Run the following procedure to perform the outlier rejection for the coregistered images"
   ]
  },
  {
   "cell_type": "code",
   "execution_count": 18,
   "metadata": {
    "tags": []
   },
   "outputs": [
    {
     "name": "stdout",
     "output_type": "stream",
     "text": [
      "./out/image_coregistration/wqp/full_coregistered/chl\n",
      "./out/image_coregistration/wqp/full_coregistered_or/IQR/chl\n",
      "./out/image_coregistration/wqp/full_coregistered/chl S3A_CHL_IT_20190315T094218_L1.tif\n",
      "S3A_CHL_IT_20190315T094218_L1\n",
      "./out/image_coregistration/wqp/full_coregistered/chl S3A_CHL_IT_20220901T092002_L1.tif\n",
      "S3A_CHL_IT_20220901T092002_L1\n",
      "Missing Stats for Lake Maggiore\n",
      "Missing Stats for Lake Lugano\n",
      "./out/image_coregistration/wqp/full_coregistered/chl S3A_CHL_IT_20220903T100840_L1.tif\n",
      "S3A_CHL_IT_20220903T100840_L1\n",
      "Missing Stats for Lake Maggiore\n",
      "Missing Stats for Lake Lugano\n",
      "./out/image_coregistration/wqp/full_coregistered/chl S3A_CHL_IT_20220904T094229_L1.tif\n",
      "S3A_CHL_IT_20220904T094229_L1\n",
      "./out/image_coregistration/wqp/full_coregistered/chl S3A_CHL_IT_20220905T091619_L1.tif\n",
      "S3A_CHL_IT_20220905T091619_L1\n",
      "Missing Stats for Lake Maggiore\n",
      "Missing Stats for Lake Lugano\n",
      "./out/image_coregistration/wqp/full_coregistered/chl S3A_CHL_IT_20220907T100457_L1.tif\n",
      "S3A_CHL_IT_20220907T100457_L1\n",
      "Missing Stats for Lake Maggiore\n",
      "Missing Stats for Lake Lugano\n",
      "./out/image_coregistration/wqp/full_coregistered/chl S3A_CHL_IT_20220908T093846_L1.tif\n",
      "S3A_CHL_IT_20220908T093846_L1\n",
      "./out/image_coregistration/wqp/full_coregistered/chl S3A_CHL_IT_20220909T091235_L1.tif\n",
      "S3A_CHL_IT_20220909T091235_L1\n",
      "Missing Stats for Lake Maggiore\n",
      "Missing Stats for Lake Lugano\n",
      "./out/image_coregistration/wqp/full_coregistered/chl S3A_CHL_IT_20220911T100113_L1.tif\n",
      "S3A_CHL_IT_20220911T100113_L1\n",
      "./out/image_coregistration/wqp/full_coregistered/chl S3A_CHL_IT_20220912T093502_L1.tif\n",
      "S3A_CHL_IT_20220912T093502_L1\n",
      "./out/image_coregistration/wqp/full_coregistered/chl S3A_CHL_IT_20220915T095729_L1.tif\n",
      "S3A_CHL_IT_20220915T095729_L1\n",
      "./out/image_coregistration/wqp/full_coregistered/chl S3A_CHL_IT_20220916T093118_L1.tif\n",
      "S3A_CHL_IT_20220916T093118_L1\n",
      "./out/image_coregistration/wqp/full_coregistered/chl S3A_CHL_IT_20220918T101955_L1.tif\n",
      "S3A_CHL_IT_20220918T101955_L1\n",
      "./out/image_coregistration/wqp/full_coregistered/chl S3A_CHL_IT_20220919T095344_L1.tif\n",
      "S3A_CHL_IT_20220919T095344_L1\n",
      "./out/image_coregistration/wqp/full_coregistered/chl S3A_CHL_IT_20220920T092734_L1.tif\n",
      "S3A_CHL_IT_20220920T092734_L1\n",
      "./out/image_coregistration/wqp/full_coregistered/chl S3A_CHL_IT_20220923T095000_L1.tif\n",
      "S3A_CHL_IT_20220923T095000_L1\n",
      "Missing Stats for Lake Maggiore\n",
      "Missing Stats for Lake Lugano\n",
      "./out/image_coregistration/wqp/full_coregistered/chl S3A_CHL_IT_20220924T092349_L1.tif\n",
      "S3A_CHL_IT_20220924T092349_L1\n",
      "Missing Stats for Lake Maggiore\n",
      "Missing Stats for Lake Lugano\n",
      "./out/image_coregistration/wqp/full_coregistered/chl S3A_CHL_IT_20220926T101226_L1.tif\n",
      "S3A_CHL_IT_20220926T101226_L1\n",
      "./out/image_coregistration/wqp/full_coregistered/chl S3A_CHL_IT_20220927T094615_L1.tif\n",
      "S3A_CHL_IT_20220927T094615_L1\n",
      "./out/image_coregistration/wqp/full_coregistered/chl S3A_CHL_IT_20220928T092004_L1.tif\n",
      "S3A_CHL_IT_20220928T092004_L1\n",
      "Missing Stats for Lake Maggiore\n",
      "Missing Stats for Lake Lugano\n",
      "./out/image_coregistration/wqp/full_coregistered/chl S3A_CHL_IT_20220930T100841_L1.tif\n",
      "S3A_CHL_IT_20220930T100841_L1\n",
      "Missing Stats for Lake Maggiore\n",
      "Missing Stats for Lake Lugano\n",
      "./out/image_coregistration/wqp/full_coregistered/chl S3A_CHL_IT_20221001T094230_L1.tif\n",
      "S3A_CHL_IT_20221001T094230_L1\n",
      "Missing Stats for Lake Maggiore\n",
      "Missing Stats for Lake Lugano\n",
      "./out/image_coregistration/wqp/full_coregistered/chl S3A_CHL_IT_20221002T091619_L1.tif\n",
      "S3A_CHL_IT_20221002T091619_L1\n",
      "./out/image_coregistration/wqp/full_coregistered/chl S3A_CHL_IT_20221004T100456_L1.tif\n",
      "S3A_CHL_IT_20221004T100456_L1\n",
      "Missing Stats for Lake Maggiore\n",
      "Missing Stats for Lake Lugano\n",
      "./out/image_coregistration/wqp/full_coregistered/chl S3A_CHL_IT_20221005T093845_L1.tif\n",
      "S3A_CHL_IT_20221005T093845_L1\n",
      "Missing Stats for Lake Maggiore\n",
      "Missing Stats for Lake Lugano\n",
      "./out/image_coregistration/wqp/full_coregistered/chl S3A_CHL_IT_20221006T091234_L1.tif\n",
      "S3A_CHL_IT_20221006T091234_L1\n",
      "Missing Stats for Lake Maggiore\n",
      "Missing Stats for Lake Lugano\n",
      "./out/image_coregistration/wqp/full_coregistered/chl S3A_CHL_IT_20221008T100112_L1.tif\n",
      "S3A_CHL_IT_20221008T100112_L1\n",
      "Missing Stats for Lake Lugano\n",
      "./out/image_coregistration/wqp/full_coregistered/chl S3A_CHL_IT_20221009T093501_L1.tif\n",
      "S3A_CHL_IT_20221009T093501_L1\n",
      "Missing Stats for Lake Maggiore\n",
      "Missing Stats for Lake Lugano\n",
      "./out/image_coregistration/wqp/full_coregistered/chl S3B_CHL_IT_20220902T095544_L1.tif\n",
      "S3B_CHL_IT_20220902T095544_L1\n",
      "./out/image_coregistration/wqp/full_coregistered/chl S3B_CHL_IT_20220903T092933_L1.tif\n",
      "S3B_CHL_IT_20220903T092933_L1\n",
      "Missing Stats for Lake Maggiore\n",
      "Missing Stats for Lake Lugano\n",
      "./out/image_coregistration/wqp/full_coregistered/chl S3B_CHL_IT_20220906T095159_L1.tif\n",
      "S3B_CHL_IT_20220906T095159_L1\n",
      "Missing Stats for Lake Lugano\n",
      "./out/image_coregistration/wqp/full_coregistered/chl S3B_CHL_IT_20220909T101426_L1.tif\n",
      "S3B_CHL_IT_20220909T101426_L1\n",
      "./out/image_coregistration/wqp/full_coregistered/chl S3B_CHL_IT_20220911T092203_L1.tif\n",
      "S3B_CHL_IT_20220911T092203_L1\n",
      "./out/image_coregistration/wqp/full_coregistered/chl S3B_CHL_IT_20220913T101040_L1.tif\n",
      "S3B_CHL_IT_20220913T101040_L1\n",
      "Missing Stats for Lake Lugano\n",
      "./out/image_coregistration/wqp/full_coregistered/chl S3B_CHL_IT_20220914T094429_L1.tif\n",
      "S3B_CHL_IT_20220914T094429_L1\n",
      "Missing Stats for Lake Maggiore\n",
      "Missing Stats for Lake Lugano\n",
      "./out/image_coregistration/wqp/full_coregistered/chl S3B_CHL_IT_20220915T091818_L1.tif\n",
      "S3B_CHL_IT_20220915T091818_L1\n",
      "Missing Stats for Lake Lugano\n",
      "./out/image_coregistration/wqp/full_coregistered/chl S3B_CHL_IT_20220917T100655_L1.tif\n",
      "S3B_CHL_IT_20220917T100655_L1\n",
      "./out/image_coregistration/wqp/full_coregistered/chl S3B_CHL_IT_20220918T094044_L1.tif\n",
      "S3B_CHL_IT_20220918T094044_L1\n",
      "./out/image_coregistration/wqp/full_coregistered/chl S3B_CHL_IT_20220919T091433_L1.tif\n",
      "S3B_CHL_IT_20220919T091433_L1\n",
      "./out/image_coregistration/wqp/full_coregistered/chl S3B_CHL_IT_20220921T100309_L1.tif\n",
      "S3B_CHL_IT_20220921T100309_L1\n",
      "Missing Stats for Lake Maggiore\n",
      "Missing Stats for Lake Lugano\n",
      "./out/image_coregistration/wqp/full_coregistered/chl S3B_CHL_IT_20220922T093659_L1.tif\n",
      "S3B_CHL_IT_20220922T093659_L1\n",
      "./out/image_coregistration/wqp/full_coregistered/chl S3B_CHL_IT_20220925T095925_L1.tif\n",
      "S3B_CHL_IT_20220925T095925_L1\n",
      "Missing Stats for Lake Maggiore\n",
      "Missing Stats for Lake Lugano\n",
      "./out/image_coregistration/wqp/full_coregistered/chl S3B_CHL_IT_20220926T093314_L1.tif\n",
      "S3B_CHL_IT_20220926T093314_L1\n",
      "./out/image_coregistration/wqp/full_coregistered/chl S3B_CHL_IT_20220929T095540_L1.tif\n",
      "S3B_CHL_IT_20220929T095540_L1\n",
      "Missing Stats for Lake Maggiore\n",
      "Missing Stats for Lake Lugano\n",
      "./out/image_coregistration/wqp/full_coregistered/chl S3B_CHL_IT_20220930T092929_L1.tif\n",
      "S3B_CHL_IT_20220930T092929_L1\n",
      "Missing Stats for Lake Maggiore\n",
      "Missing Stats for Lake Lugano\n",
      "./out/image_coregistration/wqp/full_coregistered/chl S3B_CHL_IT_20221003T095155_L1.tif\n",
      "S3B_CHL_IT_20221003T095155_L1\n",
      "./out/image_coregistration/wqp/full_coregistered/chl S3B_CHL_IT_20221004T092544_L1.tif\n",
      "S3B_CHL_IT_20221004T092544_L1\n",
      "Missing Stats for Lake Maggiore\n",
      "Missing Stats for Lake Lugano\n",
      "./out/image_coregistration/wqp/full_coregistered/chl S3B_CHL_IT_20221006T101421_L1.tif\n",
      "S3B_CHL_IT_20221006T101421_L1\n",
      "./out/image_coregistration/wqp/full_coregistered/chl S3B_CHL_IT_20221007T094810_L1.tif\n",
      "S3B_CHL_IT_20221007T094810_L1\n",
      "./out/image_coregistration/wqp/full_coregistered/chl S3B_CHL_IT_20221008T092200_L1.tif\n",
      "S3B_CHL_IT_20221008T092200_L1\n",
      "Missing Stats for Lake Lugano\n"
     ]
    }
   ],
   "source": [
    "# TODO: apply the outlier rejection method to the missing datasets\n",
    "cor_path = './out/image_coregistration/wqp'\n",
    "# OUTLIER REJECTION FOR THE WQP COREGISTRERED MAPS\n",
    "\n",
    "in_path = os.path.join(cor_path,'full_coregistered',wqpMaps.value)\n",
    "out_path = os.path.join(cor_path,'full_coregistered_or',outlierMethods.value,wqpMaps.value)\n",
    "print(in_path)\n",
    "print(out_path)\n",
    "for root, dirs, files in os.walk(in_path):\n",
    "    for file in files:\n",
    "        if ((file.endswith('.tif')) & ([]==dirs)):\n",
    "            print(in_path,file)\n",
    "            f = os.path.join(in_path,file)\n",
    "            try:\n",
    "                # Read file\n",
    "                src = wqp.wqp(f)\n",
    "                src.readWQP()\n",
    "                # Crop the lakes by the lakes \n",
    "                src.cropRasterByFeatures(os.path.join(cwd['vector'],'simile_laghi','simile_laghi.shp'),'Nome')\n",
    "\n",
    "                # Compute statistics for the lakes polygons\n",
    "                src.computeStatistics(gdf_lakes, 'Nome',\"count min mean max median std percentile_25 percentile_50 percentile_75\",0)\n",
    "                print(src.name)\n",
    "                # Apply the outlier rejection method\n",
    "                src.outlierRejection(method=outlierMethods.value, minLower=0, maxUpper = 30)    \n",
    "\n",
    "                # Export the outlier rejection products\n",
    "                src.mergeRasterCollectionsExport(src.raster_collection, os.path.join(out_path, src.name + '.tif'))\n",
    "                src.mergeRasterCollectionsExport(src.outliers_collection, os.path.join(out_path,'outliers', src.name + '.tif'))\n",
    "\n",
    "                # Export outliers data\n",
    "                df = wqp.wqp.exportWQPFormatStatsOutliers(src)\n",
    "\n",
    "                # Export the statistics result to a file (append data if existing)\n",
    "                out_file = os.path.join(out_path,'outliers',f'lakesStats_{outlierMethods.value}_{wqpMaps.value}.csv')\n",
    "                if os.path.exists(out_file):\n",
    "                    df.to_csv(os.path.join(out_path,'outliers',f'lakesStats_{outlierMethods.value}_{wqpMaps.value}.csv'),mode='a', header=False)\n",
    "                else:\n",
    "                    df.to_csv(os.path.join(out_path,'outliers',f'lakesStats_{outlierMethods.value}_{wqpMaps.value}.csv')) \n",
    "            except:\n",
    "                # Open a file with access mode 'a'\n",
    "                file_object = open(os.path.join(out_path,f'error_images_{sensor.value}.txt'), 'a')\n",
    "                # Append 'hello' at the end of file\n",
    "                file_object.write(src.name)\n",
    "                file_object.write(\"\\n\")\n",
    "                # Close the file\n",
    "                file_object.close()"
   ]
  },
  {
   "cell_type": "code",
   "execution_count": null,
   "metadata": {},
   "outputs": [],
   "source": []
  }
 ],
 "metadata": {
  "kernelspec": {
   "display_name": "snapEnv (Python)",
   "language": "python",
   "name": "snapenv"
  },
  "language_info": {
   "codemirror_mode": {
    "name": "ipython",
    "version": 3
   },
   "file_extension": ".py",
   "mimetype": "text/x-python",
   "name": "python",
   "nbconvert_exporter": "python",
   "pygments_lexer": "ipython3",
   "version": "3.6.15"
  }
 },
 "nbformat": 4,
 "nbformat_minor": 4
}
