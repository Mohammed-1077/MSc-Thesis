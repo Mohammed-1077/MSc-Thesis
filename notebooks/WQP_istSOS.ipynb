{
 "cells": [
  {
   "cell_type": "markdown",
   "metadata": {},
   "source": [
    "# Water Quality Parameters - istSOS upload"
   ]
  },
  {
   "cell_type": "markdown",
   "metadata": {},
   "source": [
    "The current notebook introduces the computation and ingestion of the aggregate descriptive statistics, on a basins level, of the Water Quality Paramenters produced under the framework of SIMILE project into the [istSOS](http://www.istsos.org/) platform. Additional information on the istSOS capabilities and REST API can be found in its [documentation](http://istsos.org/en/latest/doc/) page."
   ]
  },
  {
   "cell_type": "markdown",
   "metadata": {},
   "source": [
    "## 0. Setup Working Environment"
   ]
  },
  {
   "cell_type": "markdown",
   "metadata": {},
   "source": [
    "### Working libraries and Notebook setup"
   ]
  },
  {
   "cell_type": "code",
   "execution_count": 1,
   "metadata": {},
   "outputs": [
    {
     "data": {
      "text/html": [
       "<style>\n",
       "/* Config settings*/\n",
       "@import url(https://fonts.googleapis.com/css?family=Open+Sans);\n",
       "body{\n",
       "   font-family: 'Open Sans';\n",
       "}\n",
       "\n",
       "/* Styling the Jupyter Notebook GUI*/\n",
       "#ipython_notebook::before{\n",
       "    content:\"\"\n",
       "   }\n",
       "\n",
       "/* #ipython_notebook img{\n",
       "display:none;\n",
       "} */\n",
       "\n",
       "/*Styling the elements in the Jupyter Notebook*/\n",
       "h1 {\n",
       "    color: white;\n",
       "    border: 1.5px solid rgb(46, 96, 177);\n",
       "    padding: 8px 12px;\n",
       "    background: rgba(37, 107, 182, 0.5);\n",
       "    position: static;\n",
       "}\n",
       "\n",
       "h2 {\n",
       "    color: white;\n",
       "    border: 1.5px solid rgb(46, 170, 177);\n",
       "    padding: 8px 12px;\n",
       "    background: rgba(46, 170, 177, 0.5);\n",
       "    position: static;\n",
       "}\n",
       "\n",
       "h3 {\n",
       "    color: white;\n",
       "    border: 1.5px solid rgb(192, 119, 255);\n",
       "    padding: 8px 12px;\n",
       "    background: rgba(170, 74, 255, 0.5);\n",
       "    position: static;\n",
       "}\n",
       "\n",
       ".note {\n",
       "    background-color: rgba(0, 255, 162, 0.503);\n",
       "}\n",
       "\n",
       ".warning {\n",
       "    background-color: rgba(246, 255, 0, 0.503);\n",
       "}\n",
       "\n",
       ".important {\n",
       "    background-color: rgba(255, 187, 0, 0.503);\n",
       "}\n",
       "\n",
       "\n",
       "</style>"
      ],
      "text/plain": [
       "<IPython.core.display.HTML object>"
      ]
     },
     "execution_count": 1,
     "metadata": {},
     "output_type": "execute_result"
    }
   ],
   "source": [
    "# Styling notebook\n",
    "\n",
    "# System\n",
    "import os\n",
    "import sys\n",
    "\n",
    "# Import scripts libraries for the project\n",
    "sys.path.append('./src/python')\n",
    "\n",
    "\n",
    "# Import the function to update the notebook style\n",
    "from nbConfig import (css_styling)\n",
    "\n",
    "css_styling()"
   ]
  },
  {
   "cell_type": "code",
   "execution_count": 2,
   "metadata": {},
   "outputs": [],
   "source": [
    "# Data\n",
    "import numpy as np\n",
    "import pandas as pd\n",
    "import pytz\n",
    "import json\n",
    "import requests\n",
    "\n",
    "# Spatial Data\n",
    "import geopandas as gpd\n",
    "import rasterio\n",
    "from rasterstats import zonal_stats\n",
    "\n",
    "# Data visualization\n",
    "import matplotlib.pyplot as plt\n",
    "import seaborn as sns\n",
    "from rasterio.plot import show_hist\n",
    "\n",
    "# Import custom libraries\n",
    "import wqp_istSOS as istsos\n",
    "import wqpFunctions as wqp\n",
    "\n",
    "# Widgets\n",
    "import ipywidgets as wg"
   ]
  },
  {
   "cell_type": "code",
   "execution_count": 3,
   "metadata": {},
   "outputs": [],
   "source": [
    "# Current Working Directories\n",
    "cwd = {\n",
    "    'local': '.',\n",
    "    'in': './out/image_coregistration/',\n",
    "    'out': './out/istSOS/',\n",
    "    'vector': './vector',\n",
    "}"
   ]
  },
  {
   "cell_type": "markdown",
   "metadata": {},
   "source": [
    "### istSOS client authentication"
   ]
  },
  {
   "cell_type": "markdown",
   "metadata": {},
   "source": [
    "In SIMILE, two different instances of istSOS have been implemented for the data upload depending on the lakes. One for lake Lugano, and a second for Lake Como and Maggiore. For this reason, it is required specifying the proper hosting endpoint, service and credentials to trigger the different procedures fot data ingestion.\n",
    "\n",
    "The hosting endpoints for each instance are the following:\n",
    "- Lake Lugano: `'https://istsos.ddns.net/'`\n",
    "- Lake Como and Maggiore: `'http://150.145.35.198:2000'`\n",
    "\n",
    "The user credentials can be found in the following env files for each lake:\n",
    "- Lake Lugano: `'../env_lugano.json'`\n",
    "- Lake Como and Maggiore: `'../env_como_maggiore.json'`\n",
    "\n",
    "The service for each lake is the following:\n",
    "- Lake Lugano: `'ceresiohourly'`\n",
    "- Lake Como: `'lariolive'`\n",
    "- Lake Maggiore: `'maggiorelive'`\n",
    "\n",
    "**Note:** The list of names for the procedures are provided in `./src/python/wqp_istSOS.py`"
   ]
  },
  {
   "cell_type": "code",
   "execution_count": 4,
   "metadata": {},
   "outputs": [],
   "source": [
    "def defineHeaders(istSOSname, HEADERS):\n",
    "    if istSOSname=='LUGANO':\n",
    "        d = {\n",
    "            'HOST':'https://istsos.ddns.net',\n",
    "            'HEADERS':HEADERS,\n",
    "            'SERVICE':'ceresiohourly',\n",
    "            'PROCEDURE_LAKE':'LUGANO',\n",
    "            'ENV_FILE':'../env_lugano.json'\n",
    "        }\n",
    "    elif istSOSname=='COMO':\n",
    "        d = {\n",
    "            'HOST':'http://150.145.35.198:2000',\n",
    "            'HEADERS':HEADERS,\n",
    "            'SERVICE':'lariolive',\n",
    "            'PROCEDURE_LAKE':'COMO',\n",
    "            'ENV_FILE':'../env_como_maggiore.json'\n",
    "        }\n",
    "    elif istSOSname=='MAGGIORE':\n",
    "        d = {\n",
    "            'HOST':'http://150.145.35.198:2000',\n",
    "            'HEADERS':HEADERS,\n",
    "            'SERVICE':'maggiorelive',\n",
    "            'PROCEDURE_LAKE':'MAGGIORE',\n",
    "            'ENV_FILE':'../env_como_maggiore.json'\n",
    "        }\n",
    "    return d"
   ]
  },
  {
   "cell_type": "code",
   "execution_count": 5,
   "metadata": {
    "scrolled": true
   },
   "outputs": [],
   "source": [
    "headers = defineHeaders('MAGGIORE', istsos.istSOSClient.HEADERS)\n",
    "c = istsos.istSOSClient(HOST=headers['HOST'],\n",
    "                        HEADERS=headers['HEADERS'],\n",
    "                        SERVICE=headers['SERVICE'],\n",
    "                        PROCEDURE_LAKE=headers['PROCEDURE_LAKE'],\n",
    "                        ENV_FILE=headers['ENV_FILE'])"
   ]
  },
  {
   "cell_type": "markdown",
   "metadata": {},
   "source": [
    "The defined user contains the following information to reach istSOS for the data upload"
   ]
  },
  {
   "cell_type": "code",
   "execution_count": 6,
   "metadata": {},
   "outputs": [
    {
     "data": {
      "text/plain": [
       "{'payload': {'grant_type': 'password',\n",
       "  'client_id': 'istsos-istsos',\n",
       "  'username': 'satellite',\n",
       "  'password': 'ag7jF5=='},\n",
       " 'headers': {'Content-Type': 'application/x-www-form-urlencoded'},\n",
       " 'tokenUrl': 'http://150.145.35.198:2000/auth/realms/istsos/protocol/openid-connect/token',\n",
       " 'apiEndpoint': 'http://150.145.35.198:2000/istsos/wa/istsos/services/maggiorelive',\n",
       " 'procedures': ['SATELLITE_CHL_TURB_MA',\n",
       "  'SATELLITE_CHL_TURB_MA_1Q',\n",
       "  'SATELLITE_CHL_TURB_MA_3Q',\n",
       "  'SATELLITE_CHL_TURB_MA_SD',\n",
       "  'SATELLITE_TEMP_MA',\n",
       "  'SATELLITE_TEMP_MA_1Q',\n",
       "  'SATELLITE_TEMP_MA_3Q',\n",
       "  'SATELLITE_TEMP_MA_SD']}"
      ]
     },
     "execution_count": 6,
     "metadata": {},
     "output_type": "execute_result"
    }
   ],
   "source": [
    "c.__dict__"
   ]
  },
  {
   "cell_type": "markdown",
   "metadata": {},
   "source": [
    "In order to trigger the different procedures for data ingestion into the plaftorm it is required to retrive its corresponding **id**."
   ]
  },
  {
   "cell_type": "code",
   "execution_count": 7,
   "metadata": {},
   "outputs": [
    {
     "name": "stdout",
     "output_type": "stream",
     "text": [
      "SATELLITE_CHL_TURB_MA\n",
      "SATELLITE_CHL_TURB_MA_1Q\n",
      "SATELLITE_CHL_TURB_MA_3Q\n",
      "SATELLITE_CHL_TURB_MA_SD\n",
      "SATELLITE_TEMP_MA\n",
      "SATELLITE_TEMP_MA_1Q\n",
      "SATELLITE_TEMP_MA_3Q\n",
      "SATELLITE_TEMP_MA_SD\n"
     ]
    }
   ],
   "source": [
    "# Retrieve the id for the procedure using the curent client session in istSOS with the provided credentials.\n",
    "c.updateBearerToken() # Make sure that the current token for the user is still valid.\n",
    "assigned_sensor_id = c.getProcedureIDs()"
   ]
  },
  {
   "cell_type": "code",
   "execution_count": 8,
   "metadata": {},
   "outputs": [
    {
     "data": {
      "text/plain": [
       "{'SATELLITE_CHL_TURB_MA': '72533c5e4fc011edbd640242ac140003',\n",
       " 'SATELLITE_CHL_TURB_MA_1Q': '4d18b6234fc011ed968b0242ac140003',\n",
       " 'SATELLITE_CHL_TURB_MA_3Q': '53539b424fc011ed8f1f0242ac140003',\n",
       " 'SATELLITE_CHL_TURB_MA_SD': '5db800c84fc011edac3c0242ac140003',\n",
       " 'SATELLITE_TEMP_MA': 'cd3b9afd4fc011ed82e40242ac140003',\n",
       " 'SATELLITE_TEMP_MA_1Q': 'd8c0a46f4fc011edbe800242ac140003',\n",
       " 'SATELLITE_TEMP_MA_3Q': 'dcd73d084fc011edb4100242ac140003',\n",
       " 'SATELLITE_TEMP_MA_SD': 'e4ed889e4fc011edb3320242ac140003'}"
      ]
     },
     "execution_count": 8,
     "metadata": {},
     "output_type": "execute_result"
    }
   ],
   "source": [
    "assigned_sensor_id"
   ]
  },
  {
   "cell_type": "markdown",
   "metadata": {},
   "source": [
    "## 1. Vector Data - Basins\n",
    "\n",
    "In this section, we import the vector layer for the computation of the aggregate statistics, based in the features of the imported layer. In this case, for the division of the lakes ata a basing level."
   ]
  },
  {
   "cell_type": "code",
   "execution_count": 171,
   "metadata": {},
   "outputs": [],
   "source": [
    "from matplotlib_scalebar.scalebar import ScaleBar"
   ]
  },
  {
   "cell_type": "code",
   "execution_count": 164,
   "metadata": {},
   "outputs": [],
   "source": [
    "# Layer dataset\n",
    "gdf_basins = gpd.read_file(os.path.join(cwd['vector'],'simile_basins','simile_basins.shp'))"
   ]
  },
  {
   "cell_type": "code",
   "execution_count": 10,
   "metadata": {},
   "outputs": [
    {
     "data": {
      "text/html": [
       "<div>\n",
       "<style scoped>\n",
       "    .dataframe tbody tr th:only-of-type {\n",
       "        vertical-align: middle;\n",
       "    }\n",
       "\n",
       "    .dataframe tbody tr th {\n",
       "        vertical-align: top;\n",
       "    }\n",
       "\n",
       "    .dataframe thead th {\n",
       "        text-align: right;\n",
       "    }\n",
       "</style>\n",
       "<table border=\"1\" class=\"dataframe\">\n",
       "  <thead>\n",
       "    <tr style=\"text-align: right;\">\n",
       "      <th></th>\n",
       "      <th>fid</th>\n",
       "      <th>Basin</th>\n",
       "      <th>Lake</th>\n",
       "      <th>LakeProc</th>\n",
       "      <th>LakeCode</th>\n",
       "      <th>geometry</th>\n",
       "    </tr>\n",
       "  </thead>\n",
       "  <tbody>\n",
       "    <tr>\n",
       "      <th>0</th>\n",
       "      <td>6.0</td>\n",
       "      <td>EAST</td>\n",
       "      <td>COMO</td>\n",
       "      <td>CO_EAST</td>\n",
       "      <td>CO</td>\n",
       "      <td>POLYGON ((520518.092 5093093.879, 522566.559 5...</td>\n",
       "    </tr>\n",
       "    <tr>\n",
       "      <th>1</th>\n",
       "      <td>4.0</td>\n",
       "      <td>NORTH</td>\n",
       "      <td>COMO</td>\n",
       "      <td>CO_NORTH</td>\n",
       "      <td>CO</td>\n",
       "      <td>POLYGON ((520460.123 5093106.857, 518161.390 5...</td>\n",
       "    </tr>\n",
       "    <tr>\n",
       "      <th>2</th>\n",
       "      <td>5.0</td>\n",
       "      <td>WEST</td>\n",
       "      <td>COMO</td>\n",
       "      <td>CO_WEST</td>\n",
       "      <td>CO</td>\n",
       "      <td>POLYGON ((518161.390 5094524.193, 520460.123 5...</td>\n",
       "    </tr>\n",
       "    <tr>\n",
       "      <th>3</th>\n",
       "      <td>2.0</td>\n",
       "      <td>NORTH</td>\n",
       "      <td>LUGANO</td>\n",
       "      <td>LUG_NORTH</td>\n",
       "      <td>LUG</td>\n",
       "      <td>POLYGON ((497571.097 5089990.306, 497552.596 5...</td>\n",
       "    </tr>\n",
       "    <tr>\n",
       "      <th>4</th>\n",
       "      <td>3.0</td>\n",
       "      <td>SOUTH</td>\n",
       "      <td>LUGANO</td>\n",
       "      <td>LUG_SOUTH</td>\n",
       "      <td>LUG</td>\n",
       "      <td>POLYGON ((497295.590 5088812.453, 497285.071 5...</td>\n",
       "    </tr>\n",
       "    <tr>\n",
       "      <th>5</th>\n",
       "      <td>1.0</td>\n",
       "      <td>ALL</td>\n",
       "      <td>MAGGIORE</td>\n",
       "      <td>MA_ALL</td>\n",
       "      <td>MA</td>\n",
       "      <td>POLYGON ((466844.138 5071980.168, 466841.138 5...</td>\n",
       "    </tr>\n",
       "  </tbody>\n",
       "</table>\n",
       "</div>"
      ],
      "text/plain": [
       "   fid  Basin      Lake   LakeProc LakeCode  \\\n",
       "0  6.0   EAST      COMO    CO_EAST       CO   \n",
       "1  4.0  NORTH      COMO   CO_NORTH       CO   \n",
       "2  5.0   WEST      COMO    CO_WEST       CO   \n",
       "3  2.0  NORTH    LUGANO  LUG_NORTH      LUG   \n",
       "4  3.0  SOUTH    LUGANO  LUG_SOUTH      LUG   \n",
       "5  1.0    ALL  MAGGIORE     MA_ALL       MA   \n",
       "\n",
       "                                            geometry  \n",
       "0  POLYGON ((520518.092 5093093.879, 522566.559 5...  \n",
       "1  POLYGON ((520460.123 5093106.857, 518161.390 5...  \n",
       "2  POLYGON ((518161.390 5094524.193, 520460.123 5...  \n",
       "3  POLYGON ((497571.097 5089990.306, 497552.596 5...  \n",
       "4  POLYGON ((497295.590 5088812.453, 497285.071 5...  \n",
       "5  POLYGON ((466844.138 5071980.168, 466841.138 5...  "
      ]
     },
     "execution_count": 10,
     "metadata": {},
     "output_type": "execute_result"
    }
   ],
   "source": [
    "gdf_basins"
   ]
  },
  {
   "cell_type": "code",
   "execution_count": 11,
   "metadata": {},
   "outputs": [
    {
     "data": {
      "text/plain": [
       "<matplotlib_scalebar.scalebar.ScaleBar at 0x7f277191c550>"
      ]
     },
     "execution_count": 11,
     "metadata": {},
     "output_type": "execute_result"
    },
    {
     "data": {
      "image/png": "[encoded data removed]",
      "text/plain": [
       "<Figure size 720x720 with 1 Axes>"
      ]
     },
     "metadata": {
      "needs_background": "light"
     },
     "output_type": "display_data"
    }
   ],
   "source": [
    "fig ,ax = plt.subplots(1,1,figsize=(10,10))\n",
    "gdf_basins.plot(ax = ax, edgecolor=\"black\", alpha = 0.3, column = 'LakeProc', legend = True,\\\n",
    "               legend_kwds={'loc': 'center left', 'bbox_to_anchor':(1,0.5)})\n",
    "ax.grid()\n",
    "\n",
    "scale1 = ScaleBar(\n",
    "    dx=1,\n",
    "    location='lower right',  # in relation to the whole plot\n",
    "    label_loc='left', scale_loc='bottom'  # in relation to the line\n",
    ")\n",
    "ax.add_artist(scale1)"
   ]
  },
  {
   "cell_type": "markdown",
   "metadata": {},
   "source": [
    "## 2. Compute Descriptive Statistics - Basin Level"
   ]
  },
  {
   "cell_type": "markdown",
   "metadata": {},
   "source": [
    "In the following section, it will be possible to select the procedure used for the data upload. After selecting the procedure of interest, a sample of the data format will be requested, this sample will serve for the update of new statistics upload."
   ]
  },
  {
   "cell_type": "markdown",
   "metadata": {},
   "source": [
    "### Procedure Selection - Data Formatting for upload"
   ]
  },
  {
   "cell_type": "code",
   "execution_count": 9,
   "metadata": {},
   "outputs": [],
   "source": [
    "procedure = wg.Select(\n",
    "    options = c.procedures,\n",
    "    value = c.procedures[0],\n",
    "    description = 'Select the procedure:',\n",
    "    disabled = False,\n",
    "    style = {\n",
    "        'description_width': 'auto'\n",
    "    },\n",
    "    layout = wg.Layout(width='50%', height='100px'),\n",
    ")"
   ]
  },
  {
   "cell_type": "code",
   "execution_count": 10,
   "metadata": {
    "scrolled": true
   },
   "outputs": [],
   "source": [
    "sensor = wg.Select(\n",
    "    options = ['S3', 'L8'],\n",
    "    value = 'S3',\n",
    "    description = 'Select the sensor:',\n",
    "    disabled = False,\n",
    "    style = {\n",
    "        'description_width': 'auto'\n",
    "    },\n",
    "    layout = wg.Layout(width='50%', height='100px'),\n",
    ")"
   ]
  },
  {
   "cell_type": "markdown",
   "metadata": {},
   "source": [
    "Select the procedure of interest to extract/ingest data into the selected istSOS instance.\n",
    "\n",
    "The sensor selection accounts for a further step in obtaining estimates for the Water Quality Parameters of Interest."
   ]
  },
  {
   "cell_type": "code",
   "execution_count": 11,
   "metadata": {},
   "outputs": [
    {
     "data": {
      "application/vnd.jupyter.widget-view+json": {
       "model_id": "018f0ef89f2e40f189199b35ca509ff5",
       "version_major": 2,
       "version_minor": 0
      },
      "text/plain": [
       "HBox(children=(Select(description='Select the procedure:', layout=Layout(height='100px', width='50%'), options…"
      ]
     },
     "metadata": {},
     "output_type": "display_data"
    }
   ],
   "source": [
    "wg.HBox([procedure, sensor])"
   ]
  },
  {
   "cell_type": "code",
   "execution_count": 153,
   "metadata": {},
   "outputs": [
    {
     "name": "stdout",
     "output_type": "stream",
     "text": [
      "GetObservation requested successfully executed\n"
     ]
    }
   ],
   "source": [
    "c.updateBearerToken()\n",
    "data = c.getRequestSample(procedure.value)"
   ]
  },
  {
   "cell_type": "code",
   "execution_count": 154,
   "metadata": {
    "scrolled": true
   },
   "outputs": [
    {
     "data": {
      "text/plain": [
       "{'name': 'SATELLITE_CHL_TURB_MA_SD',\n",
       " 'samplingTime': {'beginPosition': '2019-01-15T10:12:15+00:00',\n",
       "  'endPosition': '2022-10-07T09:48:10+00:00',\n",
       "  'duration': 'P1360DT23H35M55S'},\n",
       " 'procedure': 'urn:ogc:def:procedure:x-istsos:1.0:SATELLITE_CHL_TURB_MA_SD',\n",
       " 'observedProperty': {'CompositePhenomenon': {'id': 'comp_30',\n",
       "   'dimension': '5',\n",
       "   'name': 'timeSeriesOfObservations'},\n",
       "  'component': ['urn:ogc:def:parameter:x-istsos:1.0:time:iso8601',\n",
       "   'urn:ogc:def:parameter:x-istsos:1.0:water:Chl:a',\n",
       "   'urn:ogc:def:parameter:x-istsos:1.0:water:Chl:a:qualityIndex',\n",
       "   'urn:ogc:def:parameter:x-istsos:1.0:water:TSS',\n",
       "   'urn:ogc:def:parameter:x-istsos:1.0:water:TSS:qualityIndex']},\n",
       " 'featureOfInterest': {'name': 'urn:ogc:def:feature:x-istsos:1.0:Point:maggiore',\n",
       "  'geom': \"<gml:Point srsName='EPSG:4326'><gml:coordinates>8.65498302025209,45.9693384277582,193</gml:coordinates></gml:Point>\"},\n",
       " 'result': {'DataArray': {'elementCount': '5',\n",
       "   'field': [{'name': 'Time',\n",
       "     'definition': 'urn:ogc:def:parameter:x-istsos:1.0:time:iso8601'},\n",
       "    {'name': 'water-Chl-a',\n",
       "     'definition': 'urn:ogc:def:parameter:x-istsos:1.0:water:Chl:a',\n",
       "     'uom': 'mg/m3'},\n",
       "    {'name': 'water-Chl-a:qualityIndex',\n",
       "     'definition': 'urn:ogc:def:parameter:x-istsos:1.0:water:Chl:a:qualityIndex',\n",
       "     'uom': '-'},\n",
       "    {'name': 'water-TSS',\n",
       "     'definition': 'urn:ogc:def:parameter:x-istsos:1.0:water:TSS',\n",
       "     'uom': 'g/m3'},\n",
       "    {'name': 'water-TSS:qualityIndex',\n",
       "     'definition': 'urn:ogc:def:parameter:x-istsos:1.0:water:TSS:qualityIndex',\n",
       "     'uom': '-'}],\n",
       "   'values': [['2022-10-07T09:48:10+00:00', 0.52, 100, 0.14, 100]]}}}"
      ]
     },
     "execution_count": 154,
     "metadata": {},
     "output_type": "execute_result"
    }
   ],
   "source": [
    "# Sample observation for the selected procedure\n",
    "data"
   ]
  },
  {
   "cell_type": "markdown",
   "metadata": {},
   "source": [
    "### Export Basin Stats to CSV files"
   ]
  },
  {
   "cell_type": "markdown",
   "metadata": {},
   "source": [
    "For each of the different WQP, multiple products have been extracted. In general, the stats are computed for the WQP maps that passed through the outlier detection/rejection process with the 3$\\sigma$ filter."
   ]
  },
  {
   "cell_type": "code",
   "execution_count": 114,
   "metadata": {},
   "outputs": [],
   "source": [
    "# Typology of the products\n",
    "typology_list = [\n",
    "    'chl',\n",
    "    'tsm',\n",
    "    'lswt'\n",
    "]\n",
    "# Outlie Rejection methods\n",
    "or_list = [\n",
    "    'IQR',\n",
    "    '2Sigma',\n",
    "    '3Sigma'\n",
    "]\n",
    "\n",
    "# Subset to the buffer size (same used as for the coregistration)\n",
    "featureGeometry = os.path.join(cwd['vector'],'simile_laghi_extent/simile_laghi_extent_600m_buff.shp')"
   ]
  },
  {
   "cell_type": "code",
   "execution_count": null,
   "metadata": {},
   "outputs": [],
   "source": [
    "typology = wg.Select(\n",
    "    options = typology_list,\n",
    "    value = typology_list[0],\n",
    "    description = 'Select the WQP type:',\n",
    "    disabled = False,\n",
    "    style = {\n",
    "        'description_width': 'auto'\n",
    "    },\n",
    "    layout = wg.Layout(width='50%', height='100px'),\n",
    ")\n",
    "\n",
    "orMethod = wg.Select(\n",
    "    options = or_list,\n",
    "    value = or_list[0],\n",
    "    description = 'Select the OR method:',\n",
    "    disabled = False,\n",
    "    style = {\n",
    "        'description_width': 'auto'\n",
    "    },\n",
    "    layout = wg.Layout(width='50%', height='100px'),\n",
    ")\n",
    "\n",
    "# Widgets\n",
    "wg.HBox([typology, orMethod])"
   ]
  },
  {
   "cell_type": "code",
   "execution_count": null,
   "metadata": {},
   "outputs": [],
   "source": [
    "in_path = os.path.join(cwd['in'],'wqp','full_coregistered_or',orMethod.value,typology.value)\n",
    "in_path"
   ]
  },
  {
   "cell_type": "code",
   "execution_count": null,
   "metadata": {
    "scrolled": true
   },
   "outputs": [],
   "source": [
    "# in_path = os.path.join(cwd['in'],'wqp',orMethod.value,typology.value)\n",
    "\n",
    "# In case it is required cropping the maps\n",
    "\n",
    "# out_path = os.path.join(in_path,'cropped')\n",
    "# shared_maps = list(set(os.listdir(in_path)).intersection(os.listdir(out_path)))\n",
    "# missing_maps = list(set(os.listdir(in_path)) ^ set(os.listdir(out_path)))\n",
    "# print(missing_maps)\n",
    "# for root, dirs, files in os.walk(in_path):\n",
    "#     for f in missing_maps:\n",
    "#         if ((f.endswith('.tif')) & (dirs==['cropped'])):\n",
    "#             chl_map = os.path.join(in_path,f)\n",
    "#             print(chl_map)\n",
    "#             wqp_map = wqp.wqp(chl_map)\n",
    "#             wqp_map.readWQP()\n",
    "#             wqp_map.cropRasterByFeatures(featureGeometry,'Nome')\n",
    "#             d_temp = wqp_map.crops['wqp']['crop']\n",
    "#             d_temp[d_temp<0] = 0\n",
    "#             wqp_map.crops['wqp']['crop'] = d_temp\n",
    "#             wqp_map.saveMaskedImage(os.path.join(out_path,wqp_map.name+'.tif'),'wqp',band=1)\n",
    "#             wqp_map.image.close()"
   ]
  },
  {
   "cell_type": "code",
   "execution_count": null,
   "metadata": {},
   "outputs": [],
   "source": [
    "if typology.value in ['chl','tsm']:\n",
    "    in_path = os.path.join(cwd['in'],'wqp','full_coregistered_or',orMethod.value,typology.value)\n",
    "    stats = os.path.join(in_path,f'lakesStats_{typology.value}.csv')\n",
    "elif typology.value in ['lswt']:\n",
    "    in_path = os.path.join('./out/outlier_rejection/wqp',orMethod.value,typology.value)\n",
    "    stats = os.path.join('./out/outlier_rejection/wqp',orMethod.value,typology.value,f'lakesStats_{typology.value}.csv')"
   ]
  },
  {
   "cell_type": "code",
   "execution_count": null,
   "metadata": {
    "scrolled": true,
    "tags": []
   },
   "outputs": [],
   "source": [
    "# Take into account that some of the files have already been analyzed\n",
    "data = []\n",
    "for root, dirs, files in os.walk(in_path):\n",
    "    if root.split('/')[-1]!='outliers':\n",
    "        if os.path.exists(stats):\n",
    "            df = pd.read_csv(stats)\n",
    "            stats_file_names = set(list(df['name']+'.tif'))\n",
    "            missing_stats = list(stats_file_names ^ set(os.listdir(in_path)))\n",
    "        else:\n",
    "            missing_stats = files\n",
    "        for file in missing_stats:\n",
    "            if ((file.endswith('.tif')) & (root.split('\\\\')[-1]!='outliers')):\n",
    "                print(root,file)\n",
    "                f = os.path.join(root,file)\n",
    "\n",
    "                # Read file\n",
    "                src = wqp.wqp(f)\n",
    "                src.readWQP()\n",
    "                src.name\n",
    "\n",
    "                # Compute statistics for the basins polygons\n",
    "                src.computeStatistics(gdf_basins, 'LakeProc',\"count min mean max median std  percentile_25 percentile_50 percentile_75\", -9999)\n",
    "\n",
    "                # Format output\n",
    "                data.append(wqp.wqp.exportWQPFormatStats(src))\n",
    "\n",
    "df = pd.concat(data)\n",
    "# Add values to csv file\n",
    "istsos.appendStatsFile(df, stats) "
   ]
  },
  {
   "cell_type": "markdown",
   "metadata": {},
   "source": [
    "### Products for submission to istSOS"
   ]
  },
  {
   "cell_type": "code",
   "execution_count": 40,
   "metadata": {},
   "outputs": [],
   "source": [
    "file_name = os.path.join('./out/istSOS','lakeStats_CHL_TSM_submit.csv')\n",
    "# file_name = os.path.join('./out/istSOS','lakeStats_LSWT.csv')\n",
    "df = pd.read_csv(file_name,delimiter=\",\")"
   ]
  },
  {
   "cell_type": "code",
   "execution_count": 41,
   "metadata": {},
   "outputs": [
    {
     "data": {
      "text/plain": [
       "Index(['Unnamed: 0', 'Unnamed: 0.1', 'name', 'path', 'sensor', 'typology',\n",
       "       'crs', 'date', 'count_CO_E', 'min_CO_E', 'mean_CO_E', 'max_CO_E',\n",
       "       'median_CO_E', 'std_CO_E', 'percentile_25_CO_E', 'percentile_50_CO_E',\n",
       "       'percentile_75_CO_E', 'count_CO_N', 'min_CO_N', 'mean_CO_N', 'max_CO_N',\n",
       "       'median_CO_N', 'std_CO_N', 'percentile_25_CO_N', 'percentile_50_CO_N',\n",
       "       'percentile_75_CO_N', 'count_CO_W', 'min_CO_W', 'mean_CO_W', 'max_CO_W',\n",
       "       'median_CO_W', 'std_CO_W', 'percentile_25_CO_W', 'percentile_50_CO_W',\n",
       "       'percentile_75_CO_W', 'count_LUG_N', 'min_LUG_N', 'mean_LUG_N',\n",
       "       'max_LUG_N', 'median_LUG_N', 'std_LUG_N', 'percentile_25_LUG_N',\n",
       "       'percentile_50_LUG_N', 'percentile_75_LUG_N', 'min_LUG_S', 'max_LUG_S',\n",
       "       'mean_LUG_S', 'count_LUG_S', 'std_LUG_S', 'median_LUG_S',\n",
       "       'percentile_25_LUG_S', 'percentile_50_LUG_S', 'percentile_75_LUG_S',\n",
       "       'min_MA', 'max_MA', 'mean_MA', 'count_MA', 'std_MA', 'median_MA',\n",
       "       'percentile_25_MA', 'percentile_50_MA', 'percentile_75_MA'],\n",
       "      dtype='object')"
      ]
     },
     "execution_count": 41,
     "metadata": {},
     "output_type": "execute_result"
    }
   ],
   "source": [
    "df.keys()"
   ]
  },
  {
   "cell_type": "code",
   "execution_count": 458,
   "metadata": {},
   "outputs": [
    {
     "data": {
      "text/plain": [
       "(722, 62)"
      ]
     },
     "execution_count": 458,
     "metadata": {},
     "output_type": "execute_result"
    }
   ],
   "source": [
    "df.shape"
   ]
  },
  {
   "cell_type": "code",
   "execution_count": 254,
   "metadata": {},
   "outputs": [],
   "source": [
    "filters = ['std_CO_E','std_CO_N','std_CO_N','std_MA_ALL','std_LUG_N','std_LUG_S']"
   ]
  },
  {
   "cell_type": "code",
   "execution_count": 43,
   "metadata": {},
   "outputs": [],
   "source": [
    "for f in filters:\n",
    "    df = df[df[f]>0]\n",
    "    df.dropna(inplace=True)"
   ]
  },
  {
   "cell_type": "code",
   "execution_count": 44,
   "metadata": {},
   "outputs": [
    {
     "data": {
      "text/plain": [
       "(57, 61)"
      ]
     },
     "execution_count": 44,
     "metadata": {},
     "output_type": "execute_result"
    }
   ],
   "source": [
    "df.shape"
   ]
  },
  {
   "cell_type": "code",
   "execution_count": 21,
   "metadata": {},
   "outputs": [],
   "source": [
    "df.to_csv(os.path.join('./out/istSOS',f'lakeStats_CHL_TSM_submit.csv'))"
   ]
  },
  {
   "cell_type": "markdown",
   "metadata": {
    "tags": []
   },
   "source": [
    "### istSOS JSON format"
   ]
  },
  {
   "cell_type": "markdown",
   "metadata": {},
   "source": [
    "In case of S3, it is needed to import both reference data files for the computed statistics"
   ]
  },
  {
   "cell_type": "code",
   "execution_count": 141,
   "metadata": {
    "scrolled": true
   },
   "outputs": [],
   "source": [
    "# Load the statistics files\n",
    "# file_name = os.path.join(in_path,f'lakesStats_{typology.value}_submit.csv')\n",
    "# file_name = os.path.join('./out/istSOS',f'lakeStats_CHL_TSM_submit.csv')\n",
    "file_name = os.path.join('./out/istSOS',f'lakeStats_LSWT_submit.csv')\n",
    "df = pd.read_csv(file_name,delimiter=\",\")\n",
    "df.date = pd.to_datetime(df.date)"
   ]
  },
  {
   "cell_type": "code",
   "execution_count": 142,
   "metadata": {},
   "outputs": [
    {
     "data": {
      "text/plain": [
       "(57, 62)"
      ]
     },
     "execution_count": 142,
     "metadata": {},
     "output_type": "execute_result"
    }
   ],
   "source": [
    "df = df.dropna()\n",
    "df = df.sort_values(by=['date'])\n",
    "df = df.round(2)\n",
    "df.shape"
   ]
  },
  {
   "cell_type": "code",
   "execution_count": 143,
   "metadata": {},
   "outputs": [
    {
     "data": {
      "text/html": [
       "<div>\n",
       "<style scoped>\n",
       "    .dataframe tbody tr th:only-of-type {\n",
       "        vertical-align: middle;\n",
       "    }\n",
       "\n",
       "    .dataframe tbody tr th {\n",
       "        vertical-align: top;\n",
       "    }\n",
       "\n",
       "    .dataframe thead th {\n",
       "        text-align: right;\n",
       "    }\n",
       "</style>\n",
       "<table border=\"1\" class=\"dataframe\">\n",
       "  <thead>\n",
       "    <tr style=\"text-align: right;\">\n",
       "      <th></th>\n",
       "      <th>Unnamed: 0</th>\n",
       "      <th>Unnamed: 0.1</th>\n",
       "      <th>name</th>\n",
       "      <th>path</th>\n",
       "      <th>sensor</th>\n",
       "      <th>typology</th>\n",
       "      <th>crs</th>\n",
       "      <th>date</th>\n",
       "      <th>min_CO_E</th>\n",
       "      <th>max_CO_E</th>\n",
       "      <th>...</th>\n",
       "      <th>percentile_75_LUG_S</th>\n",
       "      <th>min_MA</th>\n",
       "      <th>max_MA</th>\n",
       "      <th>mean_MA</th>\n",
       "      <th>count_MA</th>\n",
       "      <th>std_MA</th>\n",
       "      <th>median_MA</th>\n",
       "      <th>percentile_25_MA</th>\n",
       "      <th>percentile_50_MA</th>\n",
       "      <th>percentile_75_MA</th>\n",
       "    </tr>\n",
       "  </thead>\n",
       "  <tbody>\n",
       "    <tr>\n",
       "      <th>0</th>\n",
       "      <td>0</td>\n",
       "      <td>0</td>\n",
       "      <td>L8_LSWT_IT_20190101_L1</td>\n",
       "      <td>./out/outlier_rejection/wqp/3Sigma/lswt/L8_LSW...</td>\n",
       "      <td>L8</td>\n",
       "      <td>LSWT</td>\n",
       "      <td>IT</td>\n",
       "      <td>2019-01-01</td>\n",
       "      <td>6.12</td>\n",
       "      <td>8.91</td>\n",
       "      <td>...</td>\n",
       "      <td>6.64</td>\n",
       "      <td>6.10</td>\n",
       "      <td>8.60</td>\n",
       "      <td>7.74</td>\n",
       "      <td>219536</td>\n",
       "      <td>0.43</td>\n",
       "      <td>7.80</td>\n",
       "      <td>7.52</td>\n",
       "      <td>7.80</td>\n",
       "      <td>8.04</td>\n",
       "    </tr>\n",
       "    <tr>\n",
       "      <th>1</th>\n",
       "      <td>1</td>\n",
       "      <td>0</td>\n",
       "      <td>L8_LSWT_IT_20190106_L1</td>\n",
       "      <td>./out/outlier_rejection/wqp/3Sigma/lswt/L8_LSW...</td>\n",
       "      <td>L8</td>\n",
       "      <td>LSWT</td>\n",
       "      <td>IT</td>\n",
       "      <td>2019-01-06</td>\n",
       "      <td>4.94</td>\n",
       "      <td>11.99</td>\n",
       "      <td>...</td>\n",
       "      <td>7.74</td>\n",
       "      <td>6.54</td>\n",
       "      <td>10.45</td>\n",
       "      <td>8.54</td>\n",
       "      <td>209923</td>\n",
       "      <td>0.39</td>\n",
       "      <td>8.66</td>\n",
       "      <td>8.36</td>\n",
       "      <td>8.66</td>\n",
       "      <td>8.83</td>\n",
       "    </tr>\n",
       "    <tr>\n",
       "      <th>2</th>\n",
       "      <td>4</td>\n",
       "      <td>0</td>\n",
       "      <td>L8_LSWT_IT_20190117_L1</td>\n",
       "      <td>./out/outlier_rejection/wqp/3Sigma/lswt/L8_LSW...</td>\n",
       "      <td>L8</td>\n",
       "      <td>LSWT</td>\n",
       "      <td>IT</td>\n",
       "      <td>2019-01-17</td>\n",
       "      <td>0.00</td>\n",
       "      <td>0.56</td>\n",
       "      <td>...</td>\n",
       "      <td>2.57</td>\n",
       "      <td>0.00</td>\n",
       "      <td>6.95</td>\n",
       "      <td>3.11</td>\n",
       "      <td>101111</td>\n",
       "      <td>1.75</td>\n",
       "      <td>3.17</td>\n",
       "      <td>1.63</td>\n",
       "      <td>3.17</td>\n",
       "      <td>4.47</td>\n",
       "    </tr>\n",
       "    <tr>\n",
       "      <th>3</th>\n",
       "      <td>5</td>\n",
       "      <td>0</td>\n",
       "      <td>L8_LSWT_IT_20190122_L1</td>\n",
       "      <td>./out/outlier_rejection/wqp/3Sigma/lswt/L8_LSW...</td>\n",
       "      <td>L8</td>\n",
       "      <td>LSWT</td>\n",
       "      <td>IT</td>\n",
       "      <td>2019-01-22</td>\n",
       "      <td>6.17</td>\n",
       "      <td>8.32</td>\n",
       "      <td>...</td>\n",
       "      <td>5.63</td>\n",
       "      <td>6.00</td>\n",
       "      <td>7.90</td>\n",
       "      <td>7.23</td>\n",
       "      <td>219073</td>\n",
       "      <td>0.34</td>\n",
       "      <td>7.31</td>\n",
       "      <td>7.04</td>\n",
       "      <td>7.31</td>\n",
       "      <td>7.48</td>\n",
       "    </tr>\n",
       "    <tr>\n",
       "      <th>4</th>\n",
       "      <td>10</td>\n",
       "      <td>0</td>\n",
       "      <td>L8_LSWT_IT_20190218_L1</td>\n",
       "      <td>./out/outlier_rejection/wqp/3Sigma/lswt/L8_LSW...</td>\n",
       "      <td>L8</td>\n",
       "      <td>LSWT</td>\n",
       "      <td>IT</td>\n",
       "      <td>2019-02-18</td>\n",
       "      <td>6.15</td>\n",
       "      <td>7.91</td>\n",
       "      <td>...</td>\n",
       "      <td>5.72</td>\n",
       "      <td>5.15</td>\n",
       "      <td>8.26</td>\n",
       "      <td>6.77</td>\n",
       "      <td>221401</td>\n",
       "      <td>0.53</td>\n",
       "      <td>6.73</td>\n",
       "      <td>6.36</td>\n",
       "      <td>6.73</td>\n",
       "      <td>7.23</td>\n",
       "    </tr>\n",
       "  </tbody>\n",
       "</table>\n",
       "<p>5 rows × 62 columns</p>\n",
       "</div>"
      ],
      "text/plain": [
       "   Unnamed: 0  Unnamed: 0.1                    name  \\\n",
       "0           0             0  L8_LSWT_IT_20190101_L1   \n",
       "1           1             0  L8_LSWT_IT_20190106_L1   \n",
       "2           4             0  L8_LSWT_IT_20190117_L1   \n",
       "3           5             0  L8_LSWT_IT_20190122_L1   \n",
       "4          10             0  L8_LSWT_IT_20190218_L1   \n",
       "\n",
       "                                                path sensor typology crs  \\\n",
       "0  ./out/outlier_rejection/wqp/3Sigma/lswt/L8_LSW...     L8     LSWT  IT   \n",
       "1  ./out/outlier_rejection/wqp/3Sigma/lswt/L8_LSW...     L8     LSWT  IT   \n",
       "2  ./out/outlier_rejection/wqp/3Sigma/lswt/L8_LSW...     L8     LSWT  IT   \n",
       "3  ./out/outlier_rejection/wqp/3Sigma/lswt/L8_LSW...     L8     LSWT  IT   \n",
       "4  ./out/outlier_rejection/wqp/3Sigma/lswt/L8_LSW...     L8     LSWT  IT   \n",
       "\n",
       "        date  min_CO_E  max_CO_E  ...  percentile_75_LUG_S  min_MA  max_MA  \\\n",
       "0 2019-01-01      6.12      8.91  ...                 6.64    6.10    8.60   \n",
       "1 2019-01-06      4.94     11.99  ...                 7.74    6.54   10.45   \n",
       "2 2019-01-17      0.00      0.56  ...                 2.57    0.00    6.95   \n",
       "3 2019-01-22      6.17      8.32  ...                 5.63    6.00    7.90   \n",
       "4 2019-02-18      6.15      7.91  ...                 5.72    5.15    8.26   \n",
       "\n",
       "   mean_MA  count_MA  std_MA  median_MA  percentile_25_MA  percentile_50_MA  \\\n",
       "0     7.74    219536    0.43       7.80              7.52              7.80   \n",
       "1     8.54    209923    0.39       8.66              8.36              8.66   \n",
       "2     3.11    101111    1.75       3.17              1.63              3.17   \n",
       "3     7.23    219073    0.34       7.31              7.04              7.31   \n",
       "4     6.77    221401    0.53       6.73              6.36              6.73   \n",
       "\n",
       "   percentile_75_MA  \n",
       "0              8.04  \n",
       "1              8.83  \n",
       "2              4.47  \n",
       "3              7.48  \n",
       "4              7.23  \n",
       "\n",
       "[5 rows x 62 columns]"
      ]
     },
     "execution_count": 143,
     "metadata": {},
     "output_type": "execute_result"
    }
   ],
   "source": [
    "df.head()"
   ]
  },
  {
   "cell_type": "code",
   "execution_count": 144,
   "metadata": {},
   "outputs": [
    {
     "data": {
      "text/plain": [
       "Timestamp('2022-09-11 00:00:00')"
      ]
     },
     "execution_count": 144,
     "metadata": {},
     "output_type": "execute_result"
    }
   ],
   "source": [
    "max(df.date)"
   ]
  },
  {
   "cell_type": "code",
   "execution_count": 145,
   "metadata": {},
   "outputs": [
    {
     "data": {
      "text/plain": [
       "['CHL', 'TURB', 'TEMP']"
      ]
     },
     "execution_count": 145,
     "metadata": {},
     "output_type": "execute_result"
    }
   ],
   "source": [
    "istsos.istSOSClient.WQP_PROCEDURES"
   ]
  },
  {
   "cell_type": "code",
   "execution_count": 146,
   "metadata": {},
   "outputs": [
    {
     "data": {
      "text/plain": [
       "'SATELLITE_TEMP_MA_SD'"
      ]
     },
     "execution_count": 146,
     "metadata": {},
     "output_type": "execute_result"
    }
   ],
   "source": [
    "procedure.value"
   ]
  },
  {
   "cell_type": "code",
   "execution_count": 147,
   "metadata": {
    "scrolled": true
   },
   "outputs": [
    {
     "name": "stdout",
     "output_type": "stream",
     "text": [
      "['TEMP']\n",
      "2019-01-01T00:00:00Z\n",
      "2022-09-11T00:00:00Z\n"
     ]
    }
   ],
   "source": [
    "#TODO: update the updateDataRequest and resultsWQPvalues functions for the new procedures naming convention\n",
    "STATISTIC = 'std'\n",
    "a = istsos.updateDataRequest(df=df,\n",
    "                    dataSample=data, \n",
    "                    WQP_DEFINITIONS=istsos.istSOSClient.WQP_DEFINITIONS,\n",
    "                    WQP_PROCEDURES=istsos.istSOSClient.WQP_PROCEDURES,\n",
    "                    PROCEDURE=procedure.value,\n",
    "                    STATISTIC=STATISTIC)"
   ]
  },
  {
   "cell_type": "code",
   "execution_count": 117,
   "metadata": {
    "scrolled": true
   },
   "outputs": [],
   "source": [
    "# # Get Observation\n",
    "# SERVICE_NAME = 'demo'\n",
    "# OFFERING_NAME = 'temporary'\n",
    "# PROCEDURE_NAME = 'SATELLITE_CHL_TURB_CO_EAST'\n",
    "# DEFINITION_URNs = 'urn:ogc:def:parameter:x-istsos:1.0:water:Chl'\n",
    "# BEGIN_TIME = \"2020-01-01T00:01:00+01\"\n",
    "# END_TIME = \"2020-01-17T00:01:00+01\"\n",
    "\n",
    "# url_base = \"https://istsos.ddns.net/istsos/\"\n",
    "# url_test =f\"{url_base}/wa/istsos/services/{SERVICE_NAME}/operations/getobservation/offerings/{OFFERING_NAME}/procedures/{PROCEDURE_NAME}/observedproperties/{DEFINITION_URNs}/eventtime/{BEGIN_TIME}/{END_TIME}\"\n",
    "# resp = requests.get(url_test, headers=c.requestHeaders)\n",
    "# resp.text\n"
   ]
  },
  {
   "cell_type": "code",
   "execution_count": null,
   "metadata": {},
   "outputs": [],
   "source": []
  },
  {
   "cell_type": "code",
   "execution_count": 118,
   "metadata": {},
   "outputs": [],
   "source": [
    "# WQP_PROCEDURES = ['CHL','TURB','WT']\n",
    "# a = procedure.value.split('_')\n",
    "# wqps = list(set(a).intersection(WQP_PROCEDURES))\n"
   ]
  },
  {
   "cell_type": "code",
   "execution_count": 119,
   "metadata": {},
   "outputs": [],
   "source": [
    "# # INSERT OBSERVATION PARAMETERS\n",
    "\n",
    "# ########## PARAMETERS TO BE EDITED ####################\n",
    "# LAKE = 'CO' # {CO: COMO, LU: LUGANO, MA: MAGGIORE}\n",
    "# WQP_INPUT = ['LSWT'] #['LSWT','CHL','TSM']\n",
    "# #######################################################\n",
    "\n",
    "# DATE_START = pytz.utc.localize(df.date.min()).isoformat().replace('+00:00','Z')\n",
    "# DATE_END = pytz.utc.localize(df.date.max()).isoformat().replace('+00:00','Z')\n",
    "\n",
    "\n",
    "# if LAKE == 'CO':\n",
    "#     BASINS_LIST = ['CO_NORTH','CO_EAST','CO_WEST']\n",
    "# elif LAKE == 'LU':\n",
    "#     BASINS_LIST = ['LU_EAST','LU_WEST']\n",
    "# elif LAKE == 'MA':\n",
    "#     BASINS_LIST = ['MA_ALL']\n",
    "    \n",
    "# # Observed properties\n",
    "# OP_COMPOSITE_PHENOMENON_ID = 'comp_1' #random name?\n",
    "# OP_COMPOSITE_PHENOMENON_DIMENSION = '{}'.format(len(WQP_INPUT)+1) #int number of input observed variables (not observations)\n",
    "# OP_COMPONENT = [\"urn:ogc:def:parameter:x-istsos:1.0:time:iso8601\"]\n",
    "# for wqp in WQP_INPUT: #Observed parameters names: {'lswt':'water-temperature';'chl'}\n",
    "#     if 'LSWT' in wqp:\n",
    "#         OP_COMPONENT.append(\"urn:ogc:def:parameter:x-istsos:1.0:water-temperature\")\n",
    "#     elif 'CHL' in wqp:\n",
    "#         OP_COMPONENT.append(\"urn:ogc:def:parameter:x-istsos:1.0:water:Chl\")\n",
    "#     elif 'TSM' in wqp:\n",
    "#         OP_COMPONENT.append(\"urn:ogc:def:parameter:x-istsos:1.0:water:Turb\")\n",
    "\n",
    "# #Results\n",
    "# RES_DA_ELEMENT_COUNT = OP_COMPOSITE_PHENOMENON_DIMENSION # Does this parameter have the same magnitude as the composite dimension?\n",
    "# RES_DA_FIELDS = [\n",
    "#     {\n",
    "#         \"name\": \"Time\",\n",
    "#         \"definition\": \"urn:ogc:def:parameter:x-istsos:1.0:time:iso8601\"\n",
    "#     },\n",
    "# ]\n",
    "# for wqp in WQP_INPUT: #Observed parameters names: {'lswt':'water-temperature';'chl'}\n",
    "#     if 'LSWT' == wqp:\n",
    "#         RES_DA_FIELDS.append(\n",
    "#             {\n",
    "#                 \"name\": \"water-temperature\",\n",
    "#                 \"definition\":\"urn:ogc:def:parameter:x-istsos:1.0:water-temperature\",\n",
    "#                 \"uom\":\"\\u00b0C\"\n",
    "#             }\n",
    "#         )\n",
    "#     elif 'CHL' == wqp:\n",
    "#         RES_DA_FIELDS.append(\n",
    "#             {\n",
    "#                 \"name\": \"water-Chl\",\n",
    "#                 \"definition\":\"urn:ogc:def:parameter:x-istsos:1.0:water:Chl\",\n",
    "#                 \"uom\":\"mg/m^3\"\n",
    "#             }\n",
    "#         )\n",
    "#     elif 'TSM' == wqp:\n",
    "#         RES_DA_FIELDS.append(\n",
    "#             {\n",
    "#                 \"name\": \"water-Turb\",\n",
    "#                 \"definition\":\"urn:ogc:def:parameter:x-istsos:1.0:water:Turb\",\n",
    "#                 \"uom\":\"g/m^3\"\n",
    "#             }\n",
    "#         )\n",
    "\n",
    "# # Create insertObsevartion model for istSOS depending on the procedure.\n",
    "# for PROCEDURE in PROCEDURES_LIST:\n",
    "#     obs = {\n",
    "#         \"AssignedSensorId\":f\"{ASSIGNED_SENSOR_ID[PROCEDURE]}\",\n",
    "#         \"ForceInsert\":\"false\",\n",
    "#         \"Observation\":{\n",
    "#             \"name\":f\"{PROCEDURE}\",\n",
    "#             \"samplingTime\":{\n",
    "#             \"beginPosition\":f\"{DATE_START}\",\n",
    "#             \"endPosition\":f\"{DATE_END}\"\n",
    "#             },\n",
    "#             \"procedure\":f\"urn:ogc:def:procedure:x-istsos:1.0:{PROCEDURE}\",\n",
    "#             \"observedProperty\": {\n",
    "#                 \"CompositePhenomenon\":{\n",
    "#                     \"id\":f\"{OP_COMPOSITE_PHENOMENON_ID}\", \n",
    "#                     \"dimension\":f\"{OP_COMPOSITE_PHENOMENON_DIMENSION}\", \n",
    "#                     \"name\":\"timeSeriesOfObservations\"\n",
    "#                 },\n",
    "#                 \"component\": OP_COMPONENT\n",
    "#             },\n",
    "#             \"featureOfInterest\":{ # Is it necessary to assign the value to a geometry? \n",
    "#                 \"name\":f\"urn:ogc:def:feature:x-istsos:1.0:Point:{PROCEDURE}\",\n",
    "#                 \"geom\":f\"{istsos.getGMLfeature(os.path.join(cwd['out'],'procedures_istSOS'), PROCEDURE+\"_point\")}\" \n",
    "#             },\n",
    "#             \"result\": {\n",
    "#                 \"DataArray\": {\n",
    "#                     \"elementCount\":f\"{RES_DA_ELEMENT_COUNT}\",\n",
    "#                     \"field\": RES_DA_FIELDS,\n",
    "#                     \"values\": istsos.resultsWQPvalues(df,'_'.join(PROCEDURE.split('_')[-2:])),#BASIN\n",
    "#                 }\n",
    "#             }\n",
    "#         }\n",
    "#     }\n",
    "#     print('_'.join(PROCEDURE.split('_')[-2:]))\n",
    "#     with open(os.path.join(cwd['out'],f\"{PROCEDURE}.json\"), \"w\", encoding=\"UTF-8\") as outfile:\n",
    "#         json.dump(obs, outfile, ensure_ascii=False, indent=4)"
   ]
  },
  {
   "cell_type": "markdown",
   "metadata": {},
   "source": [
    "### Data Ingestion to istSOS"
   ]
  },
  {
   "cell_type": "code",
   "execution_count": 148,
   "metadata": {},
   "outputs": [],
   "source": [
    "obs = {\n",
    "    \"AssignedSensorId\":f\"{assigned_sensor_id[procedure.value]}\",\n",
    "    \"ForceInsert\":\"true\",\n",
    "    \"Observation\": a\n",
    "}"
   ]
  },
  {
   "cell_type": "code",
   "execution_count": 149,
   "metadata": {},
   "outputs": [],
   "source": [
    "with open(os.path.join(cwd['out'],f\"{procedure.value}.json\"), \"w\", encoding=\"UTF-8\") as outfile:\n",
    "    json.dump(obs, outfile, ensure_ascii=False, indent=4)"
   ]
  },
  {
   "cell_type": "code",
   "execution_count": 150,
   "metadata": {
    "scrolled": true
   },
   "outputs": [
    {
     "name": "stdout",
     "output_type": "stream",
     "text": [
      "./out/istSOS/SATELLITE_TEMP_MA_SD.json\n"
     ]
    }
   ],
   "source": [
    "file_name_json = f'{procedure.value}.json'\n",
    "filepath = os.path.join(cwd['out'],file_name_json)\n",
    "print(filepath)\n",
    "f = open(filepath)\n",
    "\n",
    "data = json.load(f)\n",
    "d=json.dumps(data)"
   ]
  },
  {
   "cell_type": "code",
   "execution_count": 151,
   "metadata": {},
   "outputs": [],
   "source": [
    "c.updateBearerToken()"
   ]
  },
  {
   "cell_type": "code",
   "execution_count": 152,
   "metadata": {
    "scrolled": true
   },
   "outputs": [
    {
     "name": "stdout",
     "output_type": "stream",
     "text": [
      "200\n",
      "{\"success\": true, \"message\": \"<?xml version=\\\"1.0\\\" encoding=\\\"UTF-8\\\"?>  <sos:InsertObservationResponse xmlns:sos=\\\"http://www.opengis.net/sos/1.0\\\">    <sos:AssignedObservationId>50631@50632@50633@50634@50635@50636@50637@50638@50639@50640@50641@50642@50643@50644@50645@50646@50647@50648@50649@50650@50651@50652@50653@50654@50655@50656@50657@50658@50659@50660@50661@50662@50663@50664@50665@50666@50667@50668@50669@50670@50671@50672@50673@50674@50675@50676@50677@50678@50679@50680@50681@50682@50683@50684@50685@50686@50687<\\/sos:AssignedObservationId>  <\\/sos:InsertObservationResponse>\"}\n"
     ]
    }
   ],
   "source": [
    "#Insert Observation into istSOS test\n",
    "url = headers['HOST']+'/istsos/wa/istsos/services/'+headers['SERVICE']+'/operations/insertobservation'\n",
    "# response = requests.post(url,data=json.dumps(obs),headers=c.requestHeaders)\n",
    "response = requests.post(url,data=d,headers=c.requestHeaders)\n",
    "print(response.status_code)\n",
    "print(response.text)"
   ]
  },
  {
   "cell_type": "markdown",
   "metadata": {},
   "source": [
    "### Testing istSOS API  calls"
   ]
  },
  {
   "cell_type": "code",
   "execution_count": null,
   "metadata": {
    "scrolled": true
   },
   "outputs": [],
   "source": [
    "url_base = \"https://istsos.ddns.net/istsos/\"\n",
    "url_test =f\"{url_base}/wa/istsos/services/{istsos.istSOSClient.SERVICE}/procedures/operations/getlist\"\n",
    "resp = requests.get(url_test,headers=c.requestHeaders)\n",
    "resp.text"
   ]
  },
  {
   "cell_type": "code",
   "execution_count": null,
   "metadata": {},
   "outputs": [],
   "source": [
    "url_base = \"https://istsos.ddns.net/istsos/\"\n",
    "url_test =f\"{url_base}/wa/istsos/services/demo/procedures/operations/geojson\"\n",
    "resp = requests.get(url_test, data=payload, headers=headers_req)\n",
    "resp.text"
   ]
  },
  {
   "cell_type": "code",
   "execution_count": null,
   "metadata": {},
   "outputs": [],
   "source": [
    "# Get Offerings\n",
    "url_base = \"https://istsos.ddns.net/istsos/\"\n",
    "url_test =f\"{url_base}/wa/istsos/services/demo/offerings/operations/getlist\"\n",
    "resp = requests.get(url_test, data=payload, headers=headers_req)\n",
    "resp.text"
   ]
  },
  {
   "cell_type": "code",
   "execution_count": null,
   "metadata": {
    "scrolled": true
   },
   "outputs": [],
   "source": [
    "# Get Observation\n",
    "SERVICE_NAME = 'ceresiohourly'\n",
    "OFFERING_NAME = 'temporary'\n",
    "PROCEDURE_NAME = procedure.value\n",
    "# DEFINITION_URNs = 'urn:ogc:def:parameter:x-istsos:1.0:water:Chl:a&urn:ogc:def:parameter:x-istsos:1.0:water:TSS'\n",
    "DEFINITION_URNs = 'urn:ogc:def:parameter:x-istsos:1.0:water:temperature'\n",
    "BEGIN_TIME = \"2019-01-04T09:54:16Z\"\n",
    "END_TIME = \"2022-08-26T09:58:18Z\"\n",
    "\n",
    "url_base = \"https://istsos.ddns.net/istsos/\"\n",
    "url_test =f\"{url_base}/wa/istsos/services/{SERVICE_NAME}/operations/getobservation/offerings/{OFFERING_NAME}/procedures/{PROCEDURE_NAME}/observedproperties/{DEFINITION_URNs}/eventtime/{BEGIN_TIME}/{END_TIME}\"\n",
    "resp = requests.get(url_test, headers=c.requestHeaders)\n",
    "resp.text\n"
   ]
  },
  {
   "cell_type": "code",
   "execution_count": null,
   "metadata": {},
   "outputs": [],
   "source": []
  },
  {
   "cell_type": "code",
   "execution_count": null,
   "metadata": {
    "scrolled": true
   },
   "outputs": [],
   "source": [
    "# Get Observation\n",
    "SERVICE_NAME = 'demo'\n",
    "OFFERING_NAME = 'temporary'\n",
    "PROCEDURE_NAME = 'SATELLITE_CHL_TURB_CO_WEST'\n",
    "DEFINITION_URNs = 'urn:ogc:def:parameter:x-istsos:1.0:water:Chl'\n",
    "BEGIN_TIME = \"2019-01-01T00:01:00+01\"\n",
    "END_TIME = \"2022-01-17T00:01:00+01\"\n",
    "\n",
    "url_base = \"https://istsos.ddns.net/istsos/\"\n",
    "url_test =f\"{url_base}/wa/istsos/services/{SERVICE_NAME}/operations/getobservation/offerings/{OFFERING_NAME}/procedures/{PROCEDURE_NAME}/observedproperties/:/eventtime/last\"\n",
    "resp = requests.get(url_test, headers=c.requestHeaders)\n",
    "resp.json()\n"
   ]
  },
  {
   "cell_type": "code",
   "execution_count": null,
   "metadata": {},
   "outputs": [],
   "source": [
    "data = resp.json()"
   ]
  },
  {
   "cell_type": "code",
   "execution_count": null,
   "metadata": {},
   "outputs": [],
   "source": [
    "data['data']"
   ]
  },
  {
   "cell_type": "code",
   "execution_count": null,
   "metadata": {},
   "outputs": [],
   "source": []
  }
 ],
 "metadata": {
  "kernelspec": {
   "display_name": "snapEnv (Python)",
   "language": "python",
   "name": "snapenv"
  },
  "language_info": {
   "codemirror_mode": {
    "name": "ipython",
    "version": 3
   },
   "file_extension": ".py",
   "mimetype": "text/x-python",
   "name": "python",
   "nbconvert_exporter": "python",
   "pygments_lexer": "ipython3",
   "version": "3.6.15"
  },
  "vscode": {
   "interpreter": {
    "hash": "2083f749abe79a73b2e875f8f94e60d7a5a252ea6ab5c8bd42b8c1efbd65b428"
   }
  }
 },
 "nbformat": 4,
 "nbformat_minor": 4
}
